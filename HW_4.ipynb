{
 "cells": [
  {
   "cell_type": "markdown",
   "id": "807eeb67-c734-4bd7-87aa-573d1d55366d",
   "metadata": {},
   "source": [
    "В формулировке заданий будет использоваться понятие **worker**. Это слово обозначает какую-то единицу параллельного выполнения, в случае питона это может быть **поток** или **процесс**, выбирайте то, что лучше будет подходить к конкретной задаче"
   ]
  },
  {
   "cell_type": "markdown",
   "id": "6d3b4f3a-f226-4ea4-a39f-dfb6e45bd983",
   "metadata": {},
   "source": [
    "# Задание 1 (7 баллов)"
   ]
  },
  {
   "cell_type": "markdown",
   "id": "ba5a5046-e619-4e55-8a36-f0e72f7f8d4a",
   "metadata": {},
   "source": [
    "В одном из заданий по ML от вас требовалось написать кастомную реализацию Random Forest. Её проблема состоит в том, что она работает медленно, так как использует всего один поток для работы. Добавление параллельного программирования в код позволит получить существенный прирост в скорости обучения и предсказаний.\n",
    "\n",
    "В данном задании от вас требуется добавить возможность обучать случайный лес параллельно и использовать параллелизм для предсказаний. Для этого вам понадобится:\n",
    "1. Добавить аргумент `n_jobs` в метод `fit`. `n_jobs` показывает количество worker'ов, используемых для распараллеливания\n",
    "2. Добавить аргумент `n_jobs` в методы `predict` и `predict_proba`\n",
    "3. Реализовать функционал по распараллеливанию в данных методах\n",
    "\n",
    "В результате код `random_forest.fit(X, y, n_jobs=2)` и `random_forest.predict(X, y, n_jobs=2)` должен работать в ~1.5-2 раза быстрее, чем `random_forest.fit(X, y, n_jobs=1)` и `random_forest.predict(X, y, n_jobs=1)` соответственно\n",
    "\n",
    "Если у вас по каким-то причинам нет кода случайного леса из ДЗ по ML, то вы можете написать его заново или попросить у однокурсника. *Детали* реализации ML части оцениваться не будут, НО, если вы поломаете логику работы алгоритма во время реализации параллелизма, то за это будут сниматься баллы\n",
    "\n",
    "В задании можно использовать только модули из **стандартной библиотеки** питона, а также функции и классы из **sklearn** при помощи которых вы изначально писали лес"
   ]
  },
  {
   "cell_type": "code",
   "execution_count": 123,
   "id": "5e8cc11e-9096-46b3-8cae-f4f19dc0ea2f",
   "metadata": {
    "tags": []
   },
   "outputs": [],
   "source": [
    "from joblib import Parallel, delayed\n",
    "from sklearn.tree import DecisionTreeClassifier\n",
    "from sklearn.datasets import make_classification\n",
    "import numpy as np\n",
    "\n",
    "class RandomForestClassifierCustom:\n",
    "    def __init__(self, n_estimators: int = 100, max_depth: int = None, max_features: int = 'auto',\n",
    "                 random_state: int = None):\n",
    "        self.n_estimators: int = n_estimators\n",
    "        self.max_depth: int = max_depth\n",
    "        self.max_features: int = max_features\n",
    "        self.random_state: int = random_state\n",
    "        self.trees: list = []\n",
    "        self.feat_ids_by_tree: list = []\n",
    "        self.classes_: np.ndarray = None\n",
    "        self.X: np.ndarray = None\n",
    "        self.y: np.ndarray = None\n",
    "\n",
    "    def _fitting_model(self, idx: int) -> tuple:\n",
    "        rng: np.random.Generator = np.random.default_rng(self.random_state + idx)\n",
    "        features_ids: np.ndarray = rng.choice(self.X.shape[1], size=self.max_features, replace=False)\n",
    "        pseudosampling_ids: np.ndarray = rng.choice(self.X.shape[0], size=self.X.shape[0], replace=True)\n",
    "        pseudo_X: np.ndarray = self.X[pseudosampling_ids][:, features_ids]\n",
    "        pseudo_y: np.ndarray = self.y[pseudosampling_ids]\n",
    "\n",
    "        tree_class: DecisionTreeClassifier = DecisionTreeClassifier(max_depth=self.max_depth,\n",
    "                                            max_features=self.max_features,\n",
    "                                            random_state=self.random_state,\n",
    "                                            )\n",
    "        fitted_tree: DecisionTreeClassifier = tree_class.fit(pseudo_X, pseudo_y)\n",
    "        return fitted_tree, features_ids\n",
    "\n",
    "    def fit(self, X: np.ndarray, y: np.ndarray, n_jobs: int = 1) -> object:\n",
    "        self.X: np.ndarray = X\n",
    "        self.y: np.ndarray = y\n",
    "        self.classes_: np.ndarray = sorted(np.unique(self.y))\n",
    "        processes = Parallel(n_jobs=n_jobs)(delayed(self._fitting_model)(idx) for idx in range(self.n_estimators))\n",
    "        self.trees, self.feat_ids_by_tree = zip(*processes)\n",
    "        return self\n",
    "\n",
    "    def _prediction_calc(self, tree_and_feat_ids: tuple) -> np.ndarray:\n",
    "        tree, feat_ids = tree_and_feat_ids\n",
    "        pred: np.ndarray = tree.predict_proba(self.X[:, feat_ids])\n",
    "        return pred\n",
    "\n",
    "    def predict_proba(self, X: np.ndarray, n_jobs: int = 1) -> np.ndarray:\n",
    "        self.X: np.ndarray = X\n",
    "        y_pred: np.ndarray = np.zeros((self.X.shape[0], len(self.classes_)))\n",
    "        processes = Parallel(n_jobs=n_jobs)(delayed(self._prediction_calc)(tf) for tf in zip(self.trees, self.feat_ids_by_tree))\n",
    "        y_pred: np.ndarray = sum(processes)\n",
    "        return y_pred\n",
    "\n",
    "    def predict(self, X: np.ndarray, n_jobs: int = 1) -> np.ndarray:\n",
    "        probas: np.ndarray = self.predict_proba(X, n_jobs)\n",
    "        predictions: np.ndarray = np.argmax(probas, axis=1)\n",
    "        return predictions\n",
    "\n",
    "\n",
    "X, y = make_classification(n_samples=100000)"
   ]
  },
  {
   "cell_type": "code",
   "execution_count": 124,
   "id": "5eecd633-1ae5-49fb-8cd0-4fd4ec1d6c24",
   "metadata": {
    "tags": []
   },
   "outputs": [],
   "source": [
    "random_forest = RandomForestClassifierCustom(max_depth=30, n_estimators=10, max_features=2, random_state=42)"
   ]
  },
  {
   "cell_type": "code",
   "execution_count": 125,
   "id": "85861ddf-1fdd-4dce-8e91-67e2a20e294d",
   "metadata": {
    "tags": []
   },
   "outputs": [
    {
     "name": "stdout",
     "output_type": "stream",
     "text": [
      "CPU times: user 5.29 s, sys: 52.6 ms, total: 5.34 s\n",
      "Wall time: 5.34 s\n"
     ]
    }
   ],
   "source": [
    "%%time\n",
    "\n",
    "_ = random_forest.fit(X, y, n_jobs=1)"
   ]
  },
  {
   "cell_type": "code",
   "execution_count": 126,
   "id": "04e62ac4-91d0-4cac-9de9-b4be0b582e7b",
   "metadata": {
    "tags": []
   },
   "outputs": [
    {
     "name": "stdout",
     "output_type": "stream",
     "text": [
      "CPU times: user 171 ms, sys: 6.41 ms, total: 177 ms\n",
      "Wall time: 176 ms\n"
     ]
    }
   ],
   "source": [
    "%%time\n",
    "\n",
    "preds_1 = random_forest.predict(X, n_jobs=1)"
   ]
  },
  {
   "cell_type": "code",
   "execution_count": 127,
   "id": "fb3a3398-00e6-4380-b4c2-35aab1f9fcc4",
   "metadata": {
    "tags": []
   },
   "outputs": [],
   "source": [
    "random_forest = RandomForestClassifierCustom(max_depth=30, n_estimators=10, max_features=2, random_state=42)"
   ]
  },
  {
   "cell_type": "code",
   "execution_count": 128,
   "id": "9f14517f-7a80-4219-aff6-90097b59b085",
   "metadata": {
    "tags": []
   },
   "outputs": [
    {
     "name": "stdout",
     "output_type": "stream",
     "text": [
      "CPU times: user 31.4 ms, sys: 41.3 ms, total: 72.7 ms\n",
      "Wall time: 3.44 s\n"
     ]
    }
   ],
   "source": [
    "%%time\n",
    "\n",
    "_ = random_forest.fit(X, y, n_jobs=2)"
   ]
  },
  {
   "cell_type": "code",
   "execution_count": 129,
   "id": "c7f01f97-4ad4-4bed-a977-c8bd3ae962fd",
   "metadata": {
    "tags": []
   },
   "outputs": [
    {
     "name": "stdout",
     "output_type": "stream",
     "text": [
      "CPU times: user 47 ms, sys: 58.4 ms, total: 105 ms\n",
      "Wall time: 372 ms\n"
     ]
    }
   ],
   "source": [
    "%%time\n",
    "\n",
    "preds_2 = random_forest.predict(X, n_jobs=2)"
   ]
  },
  {
   "cell_type": "code",
   "execution_count": 132,
   "id": "547ba1fd-9535-4267-93f8-3cc927f71e03",
   "metadata": {
    "tags": []
   },
   "outputs": [
    {
     "data": {
      "text/plain": [
       "True"
      ]
     },
     "execution_count": 132,
     "metadata": {},
     "output_type": "execute_result"
    }
   ],
   "source": [
    "(preds_1 == preds_2).all()   # Количество worker'ов не должно влиять на предсказания"
   ]
  },
  {
   "cell_type": "markdown",
   "id": "0a2ea6af-f73d-436a-94d9-f7310ac9a4e6",
   "metadata": {},
   "source": [
    "#### Какие есть недостатки у вашей реализации параллельного Random Forest (если они есть)? Как это можно исправить? Опишите словами, можно без кода (+1 дополнительный балл)"
   ]
  },
  {
   "cell_type": "markdown",
   "id": "19f2f04d-2c35-4d7d-a8fe-7f88d538fb79",
   "metadata": {},
   "source": [
    "Ответ пишите тут"
   ]
  },
  {
   "cell_type": "markdown",
   "id": "f020bb22-a29e-4e39-aba9-d41e79a80732",
   "metadata": {},
   "source": [
    "# Задание 2 (9 баллов)"
   ]
  },
  {
   "cell_type": "markdown",
   "id": "e3a8a0d2-f35b-4edb-9fb3-61da119255e9",
   "metadata": {},
   "source": [
    "Напишите декоратор `memory_limit`, который позволит ограничивать использование памяти декорируемой функцией.\n",
    "\n",
    "Декоратор должен принимать следующие аргументы:\n",
    "1. `soft_limit` - \"мягкий\" лимит использования памяти. При превышении функцией этого лимита должен будет отображён **warning**\n",
    "2. `hard_limit` - \"жёсткий\" лимит использования памяти. При превышении функцией этого лимита должно будет брошено исключение, а функция должна немедленно завершить свою работу\n",
    "3. `poll_interval` - интервал времени (в секундах) между проверками использования памяти\n",
    "\n",
    "Требования:\n",
    "1. Потребление функцией памяти должно отслеживаться **во время выполнения функции**, а не после её завершения\n",
    "2. **warning** при превышении `soft_limit` должен отображаться один раз, даже если функция переходила через этот лимит несколько раз\n",
    "3. Если задать `soft_limit` или `hard_limit` как `None`, то соответствующий лимит должен быть отключён\n",
    "4. Лимиты должны передаваться и отображаться в формате `<number>X`, где `X` - символ, обозначающий порядок единицы измерения памяти (\"B\", \"K\", \"M\", \"G\", \"T\", ...)\n",
    "5. В тексте warning'ов и исключений должен быть указан текщий объём используемой памяти и величина превышенного лимита\n",
    "\n",
    "В задании можно использовать только модули из **стандартной библиотеки** питона, можно писать вспомогательные функции и/или классы\n",
    "\n",
    "В коде ниже для вас предопределены некоторые полезные функции, вы можете ими пользоваться, а можете не пользоваться"
   ]
  },
  {
   "cell_type": "code",
   "execution_count": 1,
   "id": "78299479-f7e3-409c-b144-d9a14bb1715a",
   "metadata": {
    "tags": []
   },
   "outputs": [],
   "source": [
    "import os\n",
    "import psutil\n",
    "import time\n",
    "import warnings\n",
    "\n",
    "def get_memory_usage() -> int:    # Показывает текущее потребление памяти процессом\n",
    "    process = psutil.Process(os.getpid())\n",
    "    mem_info = process.memory_info()\n",
    "    return mem_info.rss\n",
    "\n",
    "\n",
    "def bytes_to_human_readable(n_bytes:int) -> str:\n",
    "    symbols = ('K', 'M', 'G', 'T', 'P', 'E', 'Z', 'Y')\n",
    "    prefix = {}\n",
    "    for idx, s in enumerate(symbols):\n",
    "        prefix[s] = 1 << (idx + 1) * 10\n",
    "    for s in reversed(symbols):\n",
    "        if n_bytes >= prefix[s]:\n",
    "            value = float(n_bytes) / prefix[s]\n",
    "            return f\"{value:.2f}{s}\"\n",
    "    return f\"{n_bytes}B\"\n",
    "\n",
    "def memory_limit(soft_limit: Optional[str] = None, hard_limit: Optional[str] = None, poll_interval: float = 1) -> Callable:\n",
    "    def decorator(func: Callable) -> Callable:\n",
    "        def wrapper(*args, **kwargs):\n",
    "            def print_warning() -> int:\n",
    "                mem = get_memory_usage()\n",
    "                if mem > soft_limit_bytes and not warning_printed[0]:\n",
    "                    warnings.warn(f\"Memory usage ({bytes_to_human_readable(mem)}) is above the soft limit ({bytes_to_human_readable(soft_limit_bytes)})\")\n",
    "                    warning_printed[0] = True\n",
    "                return mem\n",
    "            \n",
    "            def check_hard_limit():\n",
    "                mem = get_memory_usage()\n",
    "                if mem > hard_limit_bytes:\n",
    "                    raise MemoryError(f\"Memory usage ({bytes_to_human_readable(mem)}) is above the hard limit ({bytes_to_human_readable(hard_limit_bytes)})\")\n",
    "\n",
    "            warning_printed = [False]   # Флаг, показывающий, было ли уже напечатано warning при превышении soft_limit\n",
    "            soft_limit_bytes = None if soft_limit is None else int(soft_limit[:-1]) * (1024 ** \"BKMGT\".index(soft_limit[-1]))\n",
    "            hard_limit_bytes = None if hard_limit is None else int(float(hard_limit[:-1]) * (1024 ** \"BKMGT\".index(hard_limit[-1])))\n",
    "            \n",
    "            t = time.time()\n",
    "            max_mem = 0\n",
    "            while True:\n",
    "                try:\n",
    "                    mem = print_warning()\n",
    "                    check_hard_limit()\n",
    "                    max_mem = max(max_mem, mem)\n",
    "                    result = func(*args, **kwargs)\n",
    "                    return result\n",
    "                finally:\n",
    "                    time.sleep(poll_interval)\n",
    "                    if time.time() - t > 60:  # Если функция выполняется более 60 секунд, перестаём отслеживать память\n",
    "                        break\n",
    "            raise Exception(f\"Memory usage ({bytes_to_human_readable(max_mem)}) exceeded the soft limit ({bytes_to_human_readable(soft_limit_bytes)})\")\n",
    "        return wrapper\n",
    "    return decorator"
   ]
  },
  {
   "cell_type": "code",
   "execution_count": 4,
   "id": "e5466565-e46c-425e-a7bc-556a13633a0d",
   "metadata": {
    "tags": []
   },
   "outputs": [],
   "source": [
    "@memory_limit(soft_limit=\"512M\", hard_limit=\"1.5G\", poll_interval=0.1)\n",
    "def memory_increment():\n",
    "    \"\"\"\n",
    "    Функция для тестирования\n",
    "    \n",
    "    В течение нескольких секунд достигает использования памяти 1.89G\n",
    "    Потребление памяти и скорость накопления можно варьировать, изменяя код\n",
    "    \"\"\"\n",
    "    lst = []\n",
    "    for i in range(50000000):\n",
    "        if i % 500000 == 0:\n",
    "            time.sleep(0.1)\n",
    "        lst.append(i)\n",
    "    return lst\n"
   ]
  },
  {
   "cell_type": "code",
   "execution_count": 5,
   "id": "bb686882-1d42-42de-97e1-c31acd258bdf",
   "metadata": {
    "tags": []
   },
   "outputs": [
    {
     "name": "stdout",
     "output_type": "stream",
     "text": [
      "<function memory_limit.<locals>.decorator at 0x1055689d0>\n"
     ]
    }
   ],
   "source": [
    "result = memory_increment()\n",
    "print(memory_limit(result))"
   ]
  },
  {
   "cell_type": "markdown",
   "id": "4bf0a185-3fd7-4d48-bfeb-cf6ce8b12893",
   "metadata": {},
   "source": [
    "# Задание 3 (11 баллов)"
   ]
  },
  {
   "cell_type": "markdown",
   "id": "77eec6f5-3d52-43fc-b241-9114eb9c813c",
   "metadata": {},
   "source": [
    "Напишите функцию `parallel_map`. Это должна быть **универсальная** функция для распараллеливания, которая эффективно работает в любых условиях.\n",
    "\n",
    "Функция должна принимать следующие аргументы:\n",
    "1. `target_func` - целевая функция (обязательный аргумент)\n",
    "2. `args_container` - контейнер с позиционными аргументами для `target_func` (по-умолчанию `None` - позиционные аргументы не передаются)\n",
    "3. `kwargs_container` - контейнер с именованными аргументами для `target_func` (по-умолчанию `None` - именованные аргументы не передаются)\n",
    "4. `n_jobs` - количество workers, которые будут использованы для выполнения (по-умолчанию `None` - количество логических ядер CPU в системе)\n",
    "\n",
    "Функция должна работать аналогично `***PoolExecutor.map`, применяя функцию к переданному набору аргументов, но с некоторыми дополнениями и улучшениями\n",
    "    \n",
    "Поскольку мы пишем **универсальную** функцию, то нам нужно будет выполнить ряд требований, чтобы она могла логично и эффективно работать в большинстве ситуаций\n",
    "\n",
    "1. `target_func` может принимать аргументы любого вида в любом количестве\n",
    "2. Любые типы данных в `args_container`, кроме `tuple`, передаются в `target_func` как единственный позиционный аргумент. `tuple` распаковываются в несколько аргументов\n",
    "3. Количество элементов в `args_container` должно совпадать с количеством элементов в `kwargs_container` и наоборот, также значение одного из них или обоих может быть равно `None`, в иных случаях должна кидаться ошибка (оба аргумента переданы, но размеры не совпадают)\n",
    "\n",
    "4. Функция должна выполнять определённое количество параллельных вызовов `target_func`, это количество зависит от числа переданных аргументов и значения `n_jobs`. Сценарии могут быть следующие\n",
    "    + `args_container=None`, `kwargs_container=None`, `n_jobs=None`. В таком случае функция `target_func` выполнится параллельно столько раз, сколько на вашем устройстве логических ядер CPU\n",
    "    + `args_container=None`, `kwargs_container=None`, `n_jobs=5`. В таком случае функция `target_func` выполнится параллельно **5** раз\n",
    "    + `args_container=[1, 2, 3]`, `kwargs_container=None`, `n_jobs=5`. В таком случае функция `target_func` выполнится параллельно **3** раза, несмотря на то, что `n_jobs=5` (так как есть всего 3 набора аргументов для которых нам нужно получить результат, а лишние worker'ы создавать не имеет смысла)\n",
    "    + `args_container=None`, `kwargs_container=[{\"s\": 1}, {\"s\": 2}, {\"s\": 3}]`, `n_jobs=5`. Данный случай аналогичен предыдущему, но здесь мы используем именованные аргументы\n",
    "    + `args_container=[1, 2, 3]`, `kwargs_container=[{\"s\": 1}, {\"s\": 2}, {\"s\": 3}]`, `n_jobs=5`. Данный случай аналогичен предыдущему, но здесь мы используем и позиционные, и именованные аргументы\n",
    "    + `args_container=[1, 2, 3, 4]`, `kwargs_container=None`, `n_jobs=2`. В таком случае в каждый момент времени параллельно будет выполняться **не более 2** функций `target_func`, так как нам нужно выполнить её 4 раза, но у нас есть только 2 worker'а.\n",
    "    + В подобных случаях (из примера выше) должно оптимизироваться время выполнения. Если эти 4 вызова выполняются за 5, 1, 2 и 1 секунды, то параллельное выполнение с `n_jobs=2` должно занять **5 секунд** (не 7 и тем более не 10)\n",
    "\n",
    "5. `parallel_map` возвращает результаты выполнения `target_func` **в том же порядке**, в котором были переданы соответствующие аргументы\n",
    "6. Работает с функциями, созданными внутри других функций\n",
    "\n",
    "Для базового решения от вас не ожидается **сверххорошая** оптимизация по времени и памяти для всех возможных случаев. Однако за хорошо оптимизированную логику работы можно получить до **+3 дополнительных баллов**\n",
    "\n",
    "Вы можете сделать класс вместо функции, если вам удобнее\n",
    "\n",
    "В задании можно использовать только модули из **стандартной библиотеки** питона\n",
    "\n",
    "Ниже приведены тестовые примеры по каждому из требований"
   ]
  },
  {
   "cell_type": "code",
   "execution_count": 22,
   "id": "a917005b-bc1e-4229-9eef-d33bfe7050c2",
   "metadata": {},
   "outputs": [],
   "source": [
    "def parallel_map(target_func,\n",
    "                 args_container=None,\n",
    "                 kwargs_container=None,\n",
    "                 n_jobs=None):\n",
    "    # Ваш код здесь"
   ]
  },
  {
   "cell_type": "code",
   "execution_count": 164,
   "id": "05d31a9f-ddab-4fb6-8986-142dd60d47d7",
   "metadata": {
    "tags": []
   },
   "outputs": [],
   "source": [
    "from typing import Union, List, Tuple, Dict, Any, Callable, Optional\n",
    "import multiprocessing\n",
    "\n",
    "\n",
    "\n",
    "class ParallelRunner:\n",
    "    '''\n",
    "    Universal class for parallelization across processes.\n",
    "    '''\n",
    "    def __init__(self,\n",
    "                 target_funcs: Union[Callable, List[Callable]],\n",
    "                 args_container: Optional[Union[List[Tuple], Tuple]] = None,\n",
    "                 kwargs_container: Optional[List[Dict[str, Any]]] = None,\n",
    "                 n_jobs: int = None) -> None:\n",
    "        '''\n",
    "        :param target_funcs: objective function or functions\n",
    "        :param args_list: container with positional arguments numbers or tuples (by default None)\n",
    "        :param kwargs_list: container with named arguments\n",
    "        :param n_jobs: number of processes\n",
    "        '''\n",
    "        self.target_funcs = target_funcs\n",
    "        self.args_container = args_container\n",
    "        self.kwargs_container = kwargs_container\n",
    "        self.n_jobs = n_jobs\n",
    "        self.counter = 0\n",
    "\n",
    "    def _compare_args_kwargs_len(self):\n",
    "        if self.args_container is not None and self.kwargs_container is not None and len(\n",
    "                self.args_container) != len(self.kwargs_container):\n",
    "            raise ValueError('the number of positional and named arguments differs')\n",
    "\n",
    "    def _fill_empty_args_kwargs(self):\n",
    "        if self.args_container is None and self.kwargs_container is not None:\n",
    "            self.args_container = [tuple() for _ in range(len(self.kwargs_container))]\n",
    "        elif self.kwargs_container is None and self.args_container is not None:\n",
    "            self.kwargs_container = [dict() for _ in range(len(self.args_container))]\n",
    "        elif self.args_container is None and self.kwargs_container is None:\n",
    "            self.args_container = [tuple() for _ in range(self.n_jobs)]\n",
    "            self.kwargs_container = [dict() for _ in range(self.n_jobs)]\n",
    "\n",
    "    def _check_n_jobs(self):\n",
    "        if self.n_jobs is None:\n",
    "            self.n_jobs = multiprocessing.cpu_count()\n",
    "        self._fill_empty_args_kwargs()\n",
    "        self.n_jobs = min(self.n_jobs, len(self.args_container))\n",
    "\n",
    "    def _add_tasks_in_queue(self, queue: multiprocessing.Queue) -> multiprocessing.Queue:\n",
    "        counter = 0\n",
    "        for args, kwargs in zip(self.args_container, self.kwargs_container):\n",
    "            queue.put((counter, args, kwargs))\n",
    "            counter += 1\n",
    "        return queue\n",
    "\n",
    "    def _process_tasks(self, target_func: Callable, queue: multiprocessing.Queue, results_dict: multiprocessing.Manager) -> None:\n",
    "        while not queue.empty():\n",
    "            counter, args, kwargs = queue.get()\n",
    "            if not isinstance(args, tuple):\n",
    "                args = (args,)\n",
    "            result = target_func(*args, **kwargs)\n",
    "            results_dict[counter] = result\n",
    "        return None\n",
    "    def _check_n_funcs(self):\n",
    "        if isinstance(self.target_funcs, list):\n",
    "            self.target_funcs = self.target_funcs\n",
    "        else:\n",
    "            self.target_funcs = [self.target_funcs]\n",
    "\n",
    "    def parallel_map(self) -> List[list]:\n",
    "        self._compare_args_kwargs_len()\n",
    "        self._check_n_funcs()\n",
    "        self._check_n_jobs()\n",
    "        processes = []\n",
    "        results = []\n",
    "        for func in self.target_funcs:\n",
    "            queue = self._add_tasks_in_queue(multiprocessing.Queue())\n",
    "            manager = multiprocessing.Manager()\n",
    "            manager_dict = manager.dict()  # need to remember what the process is first, second, etc\n",
    "            for job in range(self.n_jobs):\n",
    "                process = multiprocessing.Process(target=self._process_tasks, args=(func, queue, manager_dict))\n",
    "                processes.append(process)\n",
    "                process.start()\n",
    "            for process in processes:\n",
    "                process.join()\n",
    "\n",
    "            manager_dict = dict(sorted(manager_dict.items()))\n",
    "            interm_res = []\n",
    "            for key in manager_dict:\n",
    "                interm_res.append(manager_dict[key])\n",
    "            results.append(interm_res)\n",
    "            interm_res = []\n",
    "        return results\n"
   ]
  },
  {
   "cell_type": "code",
   "execution_count": 165,
   "id": "0f41b1c8-0d26-483e-8114-1e7638006e34",
   "metadata": {
    "tags": []
   },
   "outputs": [],
   "source": [
    "import time\n",
    "\n",
    "\n",
    "# Это только один пример тестовой функции, ваша parallel_map должна уметь эффективно работать с ЛЮБЫМИ функциями\n",
    "# Поэтому обязательно протестируйте код на чём-нибудбь ещё\n",
    "def test_func(x=1, s=2, a=1, b=1, c=1):\n",
    "    time.sleep(s)\n",
    "    return a*x**2 + b*x + c"
   ]
  },
  {
   "cell_type": "code",
   "execution_count": 166,
   "id": "54d48c99-6e8a-4990-8944-e5da424efdbd",
   "metadata": {
    "tags": []
   },
   "outputs": [
    {
     "name": "stdout",
     "output_type": "stream",
     "text": [
      "[[]]\n",
      "CPU times: user 19.6 ms, sys: 25.7 ms, total: 45.3 ms\n",
      "Wall time: 142 ms\n"
     ]
    },
    {
     "name": "stderr",
     "output_type": "stream",
     "text": [
      "Traceback (most recent call last):\n",
      "  File \"<string>\", line 1, in <module>\n",
      "  File \"/Library/Developer/CommandLineTools/Library/Frameworks/Python3.framework/Versions/3.9/lib/python3.9/multiprocessing/spawn.py\", line 116, in spawn_main\n",
      "    exitcode = _main(fd, parent_sentinel)\n",
      "  File \"/Library/Developer/CommandLineTools/Library/Frameworks/Python3.framework/Versions/3.9/lib/python3.9/multiprocessing/spawn.py\", line 126, in _main\n",
      "    self = reduction.pickle.load(from_parent)\n",
      "AttributeError: Can't get attribute 'ParallelRunner' on <module '__main__' (built-in)>\n",
      "Traceback (most recent call last):\n",
      "  File \"<string>\", line 1, in <module>\n",
      "  File \"/Library/Developer/CommandLineTools/Library/Frameworks/Python3.framework/Versions/3.9/lib/python3.9/multiprocessing/spawn.py\", line 116, in spawn_main\n",
      "    exitcode = _main(fd, parent_sentinel)\n",
      "  File \"/Library/Developer/CommandLineTools/Library/Frameworks/Python3.framework/Versions/3.9/lib/python3.9/multiprocessing/spawn.py\", line 126, in _main\n",
      "    self = reduction.pickle.load(from_parent)\n",
      "AttributeError: Can't get attribute 'ParallelRunner' on <module '__main__' (built-in)>\n",
      "Traceback (most recent call last):\n",
      "  File \"<string>\", line 1, in <module>\n",
      "  File \"/Library/Developer/CommandLineTools/Library/Frameworks/Python3.framework/Versions/3.9/lib/python3.9/multiprocessing/spawn.py\", line 116, in spawn_main\n",
      "    exitcode = _main(fd, parent_sentinel)\n",
      "  File \"/Library/Developer/CommandLineTools/Library/Frameworks/Python3.framework/Versions/3.9/lib/python3.9/multiprocessing/spawn.py\", line 126, in _main\n",
      "    self = reduction.pickle.load(from_parent)\n",
      "AttributeError: Can't get attribute 'ParallelRunner' on <module '__main__' (built-in)>\n",
      "Traceback (most recent call last):\n",
      "  File \"<string>\", line 1, in <module>\n",
      "  File \"/Library/Developer/CommandLineTools/Library/Frameworks/Python3.framework/Versions/3.9/lib/python3.9/multiprocessing/spawn.py\", line 116, in spawn_main\n",
      "    exitcode = _main(fd, parent_sentinel)\n",
      "  File \"/Library/Developer/CommandLineTools/Library/Frameworks/Python3.framework/Versions/3.9/lib/python3.9/multiprocessing/spawn.py\", line 126, in _main\n",
      "    self = reduction.pickle.load(from_parent)\n",
      "AttributeError: Can't get attribute 'ParallelRunner' on <module '__main__' (built-in)>\n"
     ]
    }
   ],
   "source": [
    "%%time\n",
    "\n",
    "# Пример 2.1\n",
    "# Отдельные значения в args_container передаются в качестве позиционных аргументов\n",
    "run = ParallelRunner(test_func, args_container=[1, 2.0, 3j-1, 4])  # Здесь происходят параллельные вызовы: test_func(1) test_func(2.0) test_func(3j-1) test_func(4)\n",
    "print(run.parallel_map())"
   ]
  },
  {
   "cell_type": "code",
   "execution_count": 140,
   "id": "dd0da716-5bbf-4925-b87a-7efe82c51cf9",
   "metadata": {
    "tags": []
   },
   "outputs": [
    {
     "ename": "ValueError",
     "evalue": "args_container and kwargs_container must have the same length",
     "output_type": "error",
     "traceback": [
      "\u001b[0;31m---------------------------------------------------------------------------\u001b[0m",
      "\u001b[0;31mValueError\u001b[0m                                Traceback (most recent call last)",
      "File \u001b[0;32m<timed eval>:3\u001b[0m\n",
      "Cell \u001b[0;32mIn[120], line 12\u001b[0m, in \u001b[0;36mparallel_map\u001b[0;34m(target_func, args_container, kwargs_container, n_jobs)\u001b[0m\n\u001b[1;32m     10\u001b[0m     num_tasks \u001b[38;5;241m=\u001b[39m \u001b[38;5;241m0\u001b[39m\n\u001b[1;32m     11\u001b[0m \u001b[38;5;28;01melif\u001b[39;00m (args_container \u001b[38;5;129;01mis\u001b[39;00m \u001b[38;5;28;01mNone\u001b[39;00m \u001b[38;5;129;01mand\u001b[39;00m kwargs_container \u001b[38;5;129;01mis\u001b[39;00m \u001b[38;5;129;01mnot\u001b[39;00m \u001b[38;5;28;01mNone\u001b[39;00m) \u001b[38;5;129;01mor\u001b[39;00m (args_container \u001b[38;5;129;01mis\u001b[39;00m \u001b[38;5;129;01mnot\u001b[39;00m \u001b[38;5;28;01mNone\u001b[39;00m \u001b[38;5;129;01mand\u001b[39;00m kwargs_container \u001b[38;5;129;01mis\u001b[39;00m \u001b[38;5;28;01mNone\u001b[39;00m):\n\u001b[0;32m---> 12\u001b[0m     \u001b[38;5;28;01mraise\u001b[39;00m \u001b[38;5;167;01mValueError\u001b[39;00m(\u001b[38;5;124m\"\u001b[39m\u001b[38;5;124margs_container and kwargs_container must have the same length\u001b[39m\u001b[38;5;124m\"\u001b[39m)\n\u001b[1;32m     13\u001b[0m \u001b[38;5;28;01melse\u001b[39;00m:\n\u001b[1;32m     14\u001b[0m     num_tasks \u001b[38;5;241m=\u001b[39m \u001b[38;5;28mlen\u001b[39m(args_container)\n",
      "\u001b[0;31mValueError\u001b[0m: args_container and kwargs_container must have the same length"
     ]
    }
   ],
   "source": [
    "%%time\n",
    "\n",
    "# Пример 2.2\n",
    "# Элементы типа tuple в args_container распаковываются в качестве позиционных аргументов\n",
    "parallel_map(test_func, [(1, 1), (2.0, 2), (3j-1, 3), 4])    # Здесь происходят параллельные вызовы: test_func(1, 1) test_func(2.0, 2) test_func(3j-1, 3) test_func(4)"
   ]
  },
  {
   "cell_type": "code",
   "execution_count": 101,
   "id": "e2a0e6fd-1d92-4f06-9e4b-51290501c2da",
   "metadata": {
    "tags": []
   },
   "outputs": [
    {
     "ename": "TypeError",
     "evalue": "__main__.test_func() argument after * must be an iterable, not int",
     "output_type": "error",
     "traceback": [
      "\u001b[0;31m---------------------------------------------------------------------------\u001b[0m",
      "\u001b[0;31mTypeError\u001b[0m                                 Traceback (most recent call last)",
      "File \u001b[0;32m<timed eval>:3\u001b[0m\n",
      "Cell \u001b[0;32mIn[97], line 33\u001b[0m, in \u001b[0;36mparallel_map\u001b[0;34m(target_func, args_container, kwargs_container, n_jobs)\u001b[0m\n\u001b[1;32m     31\u001b[0m         futures\u001b[38;5;241m.\u001b[39mappend(executor\u001b[38;5;241m.\u001b[39msubmit(worker, target_func, args, kwargs, i))\n\u001b[1;32m     32\u001b[0m     \u001b[38;5;28;01mfor\u001b[39;00m future \u001b[38;5;129;01min\u001b[39;00m as_completed(futures):\n\u001b[0;32m---> 33\u001b[0m         \u001b[43mfuture\u001b[49m\u001b[38;5;241;43m.\u001b[39;49m\u001b[43mresult\u001b[49m\u001b[43m(\u001b[49m\u001b[43m)\u001b[49m\n\u001b[1;32m     35\u001b[0m \u001b[38;5;28;01mreturn\u001b[39;00m results\n",
      "File \u001b[0;32m/Library/Developer/CommandLineTools/Library/Frameworks/Python3.framework/Versions/3.9/lib/python3.9/concurrent/futures/_base.py:438\u001b[0m, in \u001b[0;36mFuture.result\u001b[0;34m(self, timeout)\u001b[0m\n\u001b[1;32m    436\u001b[0m     \u001b[38;5;28;01mraise\u001b[39;00m CancelledError()\n\u001b[1;32m    437\u001b[0m \u001b[38;5;28;01melif\u001b[39;00m \u001b[38;5;28mself\u001b[39m\u001b[38;5;241m.\u001b[39m_state \u001b[38;5;241m==\u001b[39m FINISHED:\n\u001b[0;32m--> 438\u001b[0m     \u001b[38;5;28;01mreturn\u001b[39;00m \u001b[38;5;28;43mself\u001b[39;49m\u001b[38;5;241;43m.\u001b[39;49m\u001b[43m__get_result\u001b[49m\u001b[43m(\u001b[49m\u001b[43m)\u001b[49m\n\u001b[1;32m    440\u001b[0m \u001b[38;5;28mself\u001b[39m\u001b[38;5;241m.\u001b[39m_condition\u001b[38;5;241m.\u001b[39mwait(timeout)\n\u001b[1;32m    442\u001b[0m \u001b[38;5;28;01mif\u001b[39;00m \u001b[38;5;28mself\u001b[39m\u001b[38;5;241m.\u001b[39m_state \u001b[38;5;129;01min\u001b[39;00m [CANCELLED, CANCELLED_AND_NOTIFIED]:\n",
      "File \u001b[0;32m/Library/Developer/CommandLineTools/Library/Frameworks/Python3.framework/Versions/3.9/lib/python3.9/concurrent/futures/_base.py:390\u001b[0m, in \u001b[0;36mFuture.__get_result\u001b[0;34m(self)\u001b[0m\n\u001b[1;32m    388\u001b[0m \u001b[38;5;28;01mif\u001b[39;00m \u001b[38;5;28mself\u001b[39m\u001b[38;5;241m.\u001b[39m_exception:\n\u001b[1;32m    389\u001b[0m     \u001b[38;5;28;01mtry\u001b[39;00m:\n\u001b[0;32m--> 390\u001b[0m         \u001b[38;5;28;01mraise\u001b[39;00m \u001b[38;5;28mself\u001b[39m\u001b[38;5;241m.\u001b[39m_exception\n\u001b[1;32m    391\u001b[0m     \u001b[38;5;28;01mfinally\u001b[39;00m:\n\u001b[1;32m    392\u001b[0m         \u001b[38;5;66;03m# Break a reference cycle with the exception in self._exception\u001b[39;00m\n\u001b[1;32m    393\u001b[0m         \u001b[38;5;28mself\u001b[39m \u001b[38;5;241m=\u001b[39m \u001b[38;5;28;01mNone\u001b[39;00m\n",
      "File \u001b[0;32m/Library/Developer/CommandLineTools/Library/Frameworks/Python3.framework/Versions/3.9/lib/python3.9/concurrent/futures/thread.py:52\u001b[0m, in \u001b[0;36m_WorkItem.run\u001b[0;34m(self)\u001b[0m\n\u001b[1;32m     49\u001b[0m     \u001b[38;5;28;01mreturn\u001b[39;00m\n\u001b[1;32m     51\u001b[0m \u001b[38;5;28;01mtry\u001b[39;00m:\n\u001b[0;32m---> 52\u001b[0m     result \u001b[38;5;241m=\u001b[39m \u001b[38;5;28;43mself\u001b[39;49m\u001b[38;5;241;43m.\u001b[39;49m\u001b[43mfn\u001b[49m\u001b[43m(\u001b[49m\u001b[38;5;241;43m*\u001b[39;49m\u001b[38;5;28;43mself\u001b[39;49m\u001b[38;5;241;43m.\u001b[39;49m\u001b[43margs\u001b[49m\u001b[43m,\u001b[49m\u001b[43m \u001b[49m\u001b[38;5;241;43m*\u001b[39;49m\u001b[38;5;241;43m*\u001b[39;49m\u001b[38;5;28;43mself\u001b[39;49m\u001b[38;5;241;43m.\u001b[39;49m\u001b[43mkwargs\u001b[49m\u001b[43m)\u001b[49m\n\u001b[1;32m     53\u001b[0m \u001b[38;5;28;01mexcept\u001b[39;00m \u001b[38;5;167;01mBaseException\u001b[39;00m \u001b[38;5;28;01mas\u001b[39;00m exc:\n\u001b[1;32m     54\u001b[0m     \u001b[38;5;28mself\u001b[39m\u001b[38;5;241m.\u001b[39mfuture\u001b[38;5;241m.\u001b[39mset_exception(exc)\n",
      "Cell \u001b[0;32mIn[97], line 26\u001b[0m, in \u001b[0;36mparallel_map.<locals>.worker\u001b[0;34m(func, args, kwargs, i)\u001b[0m\n\u001b[1;32m     25\u001b[0m \u001b[38;5;28;01mdef\u001b[39;00m \u001b[38;5;21mworker\u001b[39m(func, args, kwargs, i):\n\u001b[0;32m---> 26\u001b[0m     results[i] \u001b[38;5;241m=\u001b[39m \u001b[43mfunc\u001b[49m\u001b[43m(\u001b[49m\u001b[38;5;241;43m*\u001b[39;49m\u001b[43margs\u001b[49m\u001b[43m,\u001b[49m\u001b[43m \u001b[49m\u001b[38;5;241;43m*\u001b[39;49m\u001b[38;5;241;43m*\u001b[39;49m\u001b[43mkwargs\u001b[49m\u001b[43m)\u001b[49m\n",
      "\u001b[0;31mTypeError\u001b[0m: __main__.test_func() argument after * must be an iterable, not int"
     ]
    }
   ],
   "source": [
    "%%time\n",
    "\n",
    "# Пример 3.1\n",
    "# Возможна одновременная передача args_container и kwargs_container, но количества элементов в них должны быть равны\n",
    "parallel_map(test_func,\n",
    "             args_container=[1, 2, 3, 4],\n",
    "             kwargs_container=[{\"s\": 3}, {\"s\": 3}, {\"s\": 3}, {\"s\": 3}])\n",
    "\n",
    "# Здесь происходят параллельные вызовы: test_func(1, s=3) test_func(2, s=3) test_func(3, s=3) test_func(4, s=3)"
   ]
  },
  {
   "cell_type": "code",
   "execution_count": 102,
   "id": "34cda7e6-b24a-4564-958f-c4cf20b7ed7c",
   "metadata": {
    "tags": []
   },
   "outputs": [
    {
     "name": "stdout",
     "output_type": "stream",
     "text": [
      "CPU times: user 1.86 ms, sys: 1.59 ms, total: 3.46 ms\n",
      "Wall time: 3.01 s\n"
     ]
    },
    {
     "data": {
      "text/plain": [
       "[3, 3, 3, 3]"
      ]
     },
     "execution_count": 102,
     "metadata": {},
     "output_type": "execute_result"
    }
   ],
   "source": [
    "%%time\n",
    "\n",
    "# Пример 3.2\n",
    "# args_container может быть None, а kwargs_container задан явно\n",
    "parallel_map(test_func,\n",
    "             kwargs_container=[{\"s\": 3}, {\"s\": 3}, {\"s\": 3}, {\"s\": 3}])"
   ]
  },
  {
   "cell_type": "code",
   "execution_count": 43,
   "id": "e75853e1-1ed8-43c5-b045-e30dd34a9f34",
   "metadata": {},
   "outputs": [
    {
     "name": "stdout",
     "output_type": "stream",
     "text": [
      "CPU times: user 4.11 ms, sys: 9.2 ms, total: 13.3 ms\n",
      "Wall time: 2.01 s\n"
     ]
    },
    {
     "data": {
      "text/plain": [
       "[3, 7, 13, 21]"
      ]
     },
     "execution_count": 43,
     "metadata": {},
     "output_type": "execute_result"
    }
   ],
   "source": [
    "%%time\n",
    "\n",
    "# Пример 3.3\n",
    "# kwargs_container может быть None, а args_container задан явно\n",
    "parallel_map(test_func,\n",
    "             args_container=[1, 2, 3, 4])"
   ]
  },
  {
   "cell_type": "code",
   "execution_count": 44,
   "id": "55bd628f-0456-4b3f-8cea-ccbfc0e0dd72",
   "metadata": {},
   "outputs": [
    {
     "name": "stdout",
     "output_type": "stream",
     "text": [
      "CPU times: user 500 µs, sys: 43.3 ms, total: 43.8 ms\n",
      "Wall time: 2.04 s\n"
     ]
    },
    {
     "data": {
      "text/plain": [
       "[3, 3, 3, 3, 3, 3, 3, 3, 3, 3, 3, 3, 3, 3, 3, 3, 3, 3, 3, 3, 3, 3, 3, 3]"
      ]
     },
     "execution_count": 44,
     "metadata": {},
     "output_type": "execute_result"
    }
   ],
   "source": [
    "%%time\n",
    "\n",
    "# Пример 3.4\n",
    "# И kwargs_container, и args_container могут быть не заданы\n",
    "parallel_map(test_func)"
   ]
  },
  {
   "cell_type": "code",
   "execution_count": 44,
   "id": "2aa43efd-6628-46e3-970a-018be26fef3f",
   "metadata": {},
   "outputs": [
    {
     "name": "stdout",
     "output_type": "stream",
     "text": [
      "CPU times: user 500 µs, sys: 43.3 ms, total: 43.8 ms\n",
      "Wall time: 2.04 s\n"
     ]
    },
    {
     "data": {
      "text/plain": [
       "[3, 3, 3, 3, 3, 3, 3, 3, 3, 3, 3, 3, 3, 3, 3, 3, 3, 3, 3, 3, 3, 3, 3, 3]"
      ]
     },
     "execution_count": 44,
     "metadata": {},
     "output_type": "execute_result"
    }
   ],
   "source": [
    "%%time\n",
    "\n",
    "# Пример 3.4\n",
    "# И kwargs_container, и args_container могут быть не заданы\n",
    "parallel_map(test_func)"
   ]
  },
  {
   "cell_type": "code",
   "execution_count": 32,
   "id": "bcdf8016-8363-4876-b05d-d1b536261f01",
   "metadata": {},
   "outputs": [
    {
     "ename": "ValueError",
     "evalue": "Numbers of positional arguments and keyword arguments do not match: 4 and 3",
     "output_type": "error",
     "traceback": [
      "\u001b[0;31m---------------------------------------------------------------------------\u001b[0m",
      "\u001b[0;31mValueError\u001b[0m                                Traceback (most recent call last)",
      "File \u001b[0;32m<timed exec>:8\u001b[0m, in \u001b[0;36m<module>\u001b[0;34m\u001b[0m\n",
      "\u001b[0;31mValueError\u001b[0m: Numbers of positional arguments and keyword arguments do not match: 4 and 3"
     ]
    }
   ],
   "source": [
    "%%time\n",
    "\n",
    "# Пример 3.5\n",
    "# При несовпадении количеств позиционных и именованных аргументов кидается ошибка\n",
    "parallel_map(test_func,\n",
    "             args_container=[1, 2, 3, 4],\n",
    "             kwargs_container=[{\"s\": 3}, {\"s\": 3}, {\"s\": 3}])"
   ]
  },
  {
   "cell_type": "code",
   "execution_count": 45,
   "id": "115e5fea-0692-424e-acb5-e2d97391bad5",
   "metadata": {},
   "outputs": [
    {
     "name": "stdout",
     "output_type": "stream",
     "text": [
      "CPU times: user 9.3 ms, sys: 51.2 ms, total: 60.5 ms\n",
      "Wall time: 2.06 s\n"
     ]
    },
    {
     "data": {
      "text/plain": [
       "[3, 3, 3, 3, 3, 3, 3, 3, 3, 3, 3, 3, 3, 3, 3, 3, 3, 3, 3, 3, 3, 3, 3, 3]"
      ]
     },
     "execution_count": 45,
     "metadata": {},
     "output_type": "execute_result"
    }
   ],
   "source": [
    "%%time\n",
    "\n",
    "# Пример 4.1\n",
    "# Если функция не имеет обязательных аргументов и аргумент n_jobs не был передан, то она выполняется параллельно столько раз, сколько ваш CPU имеет логических ядер\n",
    "# В моём случае это 24, у вас может быть больше или меньше\n",
    "parallel_map(test_func)"
   ]
  },
  {
   "cell_type": "code",
   "execution_count": 47,
   "id": "212fcdbe-a9f3-4eba-8d3f-7da0b853bffd",
   "metadata": {},
   "outputs": [
    {
     "name": "stdout",
     "output_type": "stream",
     "text": [
      "CPU times: user 2.06 ms, sys: 5.92 ms, total: 7.99 ms\n",
      "Wall time: 2.01 s\n"
     ]
    },
    {
     "data": {
      "text/plain": [
       "[3, 3]"
      ]
     },
     "execution_count": 47,
     "metadata": {},
     "output_type": "execute_result"
    }
   ],
   "source": [
    "%%time\n",
    "\n",
    "# Пример 4.2\n",
    "# Если функция не имеет обязательных аргументов и передан только аргумент n_jobs, то она выполняется параллельно n_jobs раз\n",
    "parallel_map(test_func, n_jobs=2)"
   ]
  },
  {
   "cell_type": "code",
   "execution_count": 48,
   "id": "202675af-11b9-485c-baa4-cc1ef8eb919d",
   "metadata": {},
   "outputs": [
    {
     "name": "stdout",
     "output_type": "stream",
     "text": [
      "CPU times: user 314 µs, sys: 8.69 ms, total: 9 ms\n",
      "Wall time: 2.01 s\n"
     ]
    },
    {
     "data": {
      "text/plain": [
       "[3, 7, 13]"
      ]
     },
     "execution_count": 48,
     "metadata": {},
     "output_type": "execute_result"
    }
   ],
   "source": [
    "%%time\n",
    "\n",
    "# Пример 4.3\n",
    "# Если аргументов для target_func указано МЕНЬШЕ, чем n_jobs, то используется такое же количество worker'ов, сколько было передано аргументов\n",
    "parallel_map(test_func,\n",
    "             args_container=[1, 2, 3],\n",
    "             n_jobs=5)   # Здесь используется 3 worker'a"
   ]
  },
  {
   "cell_type": "code",
   "execution_count": 49,
   "id": "a0952cde-c347-438a-ad0b-15e1218e5b6f",
   "metadata": {},
   "outputs": [
    {
     "name": "stdout",
     "output_type": "stream",
     "text": [
      "CPU times: user 1.26 ms, sys: 9.47 ms, total: 10.7 ms\n",
      "Wall time: 3.01 s\n"
     ]
    },
    {
     "data": {
      "text/plain": [
       "[3, 3, 3]"
      ]
     },
     "execution_count": 49,
     "metadata": {},
     "output_type": "execute_result"
    }
   ],
   "source": [
    "%%time\n",
    "\n",
    "# Пример 4.4\n",
    "# Аналогичный предыдущему случай, но с именованными аргументами\n",
    "parallel_map(test_func,\n",
    "             kwargs_container=[{\"s\": 3}, {\"s\": 3}, {\"s\": 3}],\n",
    "             n_jobs=5)   # Здесь используется 3 worker'a"
   ]
  },
  {
   "cell_type": "code",
   "execution_count": 50,
   "id": "b2c7d286-6036-44b4-9686-d941297e9598",
   "metadata": {},
   "outputs": [
    {
     "name": "stdout",
     "output_type": "stream",
     "text": [
      "CPU times: user 7.88 ms, sys: 0 ns, total: 7.88 ms\n",
      "Wall time: 3.01 s\n"
     ]
    },
    {
     "data": {
      "text/plain": [
       "[3, 7, 13]"
      ]
     },
     "execution_count": 50,
     "metadata": {},
     "output_type": "execute_result"
    }
   ],
   "source": [
    "%%time\n",
    "\n",
    "# Пример 4.5\n",
    "# Комбинация примеров 4.3 и 4.4 (переданы и позиционные и именованные аргументы)\n",
    "parallel_map(test_func,\n",
    "             args_container=[1, 2, 3],\n",
    "             kwargs_container=[{\"s\": 3}, {\"s\": 3}, {\"s\": 3}],\n",
    "             n_jobs=5)   # Здесь используется 3 worker'a"
   ]
  },
  {
   "cell_type": "code",
   "execution_count": 50,
   "id": "8b4649e2-a75b-4ede-8a46-32a0139fe998",
   "metadata": {},
   "outputs": [
    {
     "name": "stdout",
     "output_type": "stream",
     "text": [
      "CPU times: user 7.88 ms, sys: 0 ns, total: 7.88 ms\n",
      "Wall time: 3.01 s\n"
     ]
    },
    {
     "data": {
      "text/plain": [
       "[3, 7, 13]"
      ]
     },
     "execution_count": 50,
     "metadata": {},
     "output_type": "execute_result"
    }
   ],
   "source": [
    "%%time\n",
    "\n",
    "# Пример 4.6\n",
    "# Если аргументов для target_func указано БОЛЬШЕ, чем n_jobs, то используется n_jobs worker'ов\n",
    "parallel_map(test_func,\n",
    "             args_container=[1, 2, 3, 4],\n",
    "             kwargs_container=None,\n",
    "             n_jobs=2)   # Здесь используется 2 worker'a"
   ]
  },
  {
   "cell_type": "code",
   "execution_count": 51,
   "id": "627aa784-15b5-41ca-b232-73c88c5ebed9",
   "metadata": {},
   "outputs": [
    {
     "name": "stdout",
     "output_type": "stream",
     "text": [
      "CPU times: user 3.03 ms, sys: 11 ms, total: 14 ms\n",
      "Wall time: 5.01 s\n"
     ]
    },
    {
     "data": {
      "text/plain": [
       "[3, 3, 3, 3]"
      ]
     },
     "execution_count": 51,
     "metadata": {},
     "output_type": "execute_result"
    }
   ],
   "source": [
    "%%time\n",
    "\n",
    "# Пример 4.7\n",
    "# Время выполнения оптимизируется, данный код должен отрабатывать за 5 секунд\n",
    "parallel_map(test_func,\n",
    "             kwargs_container=[{\"s\": 5}, {\"s\": 1}, {\"s\": 2}, {\"s\": 1}],\n",
    "             n_jobs=2)"
   ]
  },
  {
   "cell_type": "code",
   "execution_count": 57,
   "id": "55bbfb49-4891-48c8-9cd7-782567b2a8fa",
   "metadata": {},
   "outputs": [
    {
     "data": {
      "text/plain": [
       "['first', 'second', 'third', 'fourth', 'fifth']"
      ]
     },
     "execution_count": 57,
     "metadata": {},
     "output_type": "execute_result"
    }
   ],
   "source": [
    "def test_func2(string, sleep_time=1):\n",
    "    time.sleep(sleep_time)\n",
    "    return string\n",
    "\n",
    "# Пример 5\n",
    "# Результаты возвращаются в том же порядке, в котором были переданы соответствующие аргументы вне зависимости от того, когда завершился worker\n",
    "arguments = [\"first\", \"second\", \"third\", \"fourth\", \"fifth\"]\n",
    "parallel_map(test_func2,\n",
    "             args_container=arguments,\n",
    "             kwargs_container=[{\"sleep_time\": 5}, {\"sleep_time\": 4}, {\"sleep_time\": 3}, {\"sleep_time\": 2}, {\"sleep_time\": 1}])"
   ]
  },
  {
   "cell_type": "code",
   "execution_count": 58,
   "id": "a5c2bcab-baa8-4f95-aceb-8cd6635844d6",
   "metadata": {},
   "outputs": [
    {
     "data": {
      "text/plain": [
       "[None, None, None]"
      ]
     },
     "execution_count": 58,
     "metadata": {},
     "output_type": "execute_result"
    }
   ],
   "source": [
    "%%time\n",
    "\n",
    "\n",
    "def test_func3():\n",
    "    def inner_test_func(sleep_time):\n",
    "        time.sleep(sleep_time)\n",
    "    return parallel_map(inner_test_func, args_container=[1, 2, 3])\n",
    "\n",
    "# Пример 6\n",
    "# Работает с функциями, созданными внутри других функций\n",
    "test_func3()"
   ]
  }
 ],
 "metadata": {
  "kernelspec": {
   "display_name": "Python 3 (ipykernel)",
   "language": "python",
   "name": "python3"
  },
  "language_info": {
   "codemirror_mode": {
    "name": "ipython",
    "version": 3
   },
   "file_extension": ".py",
   "mimetype": "text/x-python",
   "name": "python",
   "nbconvert_exporter": "python",
   "pygments_lexer": "ipython3",
   "version": "3.9.6"
  }
 },
 "nbformat": 4,
 "nbformat_minor": 5
}
