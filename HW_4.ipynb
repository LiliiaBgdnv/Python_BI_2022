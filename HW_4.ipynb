{
 "cells": [
  {
   "cell_type": "markdown",
   "id": "807eeb67-c734-4bd7-87aa-573d1d55366d",
   "metadata": {},
   "source": [
    "В формулировке заданий будет использоваться понятие **worker**. Это слово обозначает какую-то единицу параллельного выполнения, в случае питона это может быть **поток** или **процесс**, выбирайте то, что лучше будет подходить к конкретной задаче"
   ]
  },
  {
   "cell_type": "markdown",
   "id": "6d3b4f3a-f226-4ea4-a39f-dfb6e45bd983",
   "metadata": {},
   "source": [
    "# Задание 1 (7 баллов)"
   ]
  },
  {
   "cell_type": "markdown",
   "id": "ba5a5046-e619-4e55-8a36-f0e72f7f8d4a",
   "metadata": {},
   "source": [
    "В одном из заданий по ML от вас требовалось написать кастомную реализацию Random Forest. Её проблема состоит в том, что она работает медленно, так как использует всего один поток для работы. Добавление параллельного программирования в код позволит получить существенный прирост в скорости обучения и предсказаний.\n",
    "\n",
    "В данном задании от вас требуется добавить возможность обучать случайный лес параллельно и использовать параллелизм для предсказаний. Для этого вам понадобится:\n",
    "1. Добавить аргумент `n_jobs` в метод `fit`. `n_jobs` показывает количество worker'ов, используемых для распараллеливания\n",
    "2. Добавить аргумент `n_jobs` в методы `predict` и `predict_proba`\n",
    "3. Реализовать функционал по распараллеливанию в данных методах\n",
    "\n",
    "В результате код `random_forest.fit(X, y, n_jobs=2)` и `random_forest.predict(X, y, n_jobs=2)` должен работать в ~1.5-2 раза быстрее, чем `random_forest.fit(X, y, n_jobs=1)` и `random_forest.predict(X, y, n_jobs=1)` соответственно\n",
    "\n",
    "Если у вас по каким-то причинам нет кода случайного леса из ДЗ по ML, то вы можете написать его заново или попросить у однокурсника. *Детали* реализации ML части оцениваться не будут, НО, если вы поломаете логику работы алгоритма во время реализации параллелизма, то за это будут сниматься баллы\n",
    "\n",
    "В задании можно использовать только модули из **стандартной библиотеки** питона, а также функции и классы из **sklearn** при помощи которых вы изначально писали лес"
   ]
  },
  {
   "cell_type": "code",
   "execution_count": 1,
   "id": "641f6fac-e7bc-4570-bc1b-9b5d3db659a3",
   "metadata": {
    "collapsed": true,
    "jupyter": {
     "outputs_hidden": true
    },
    "tags": []
   },
   "outputs": [
    {
     "name": "stdout",
     "output_type": "stream",
     "text": [
      "Requirement already satisfied: sklearn.utils in /Users/iskys/venv/lib/python3.9/site-packages (0.0.15)\n",
      "Requirement already satisfied: seaborn in /Users/iskys/venv/lib/python3.9/site-packages (from sklearn.utils) (0.12.2)\n",
      "Requirement already satisfied: scikit-learn in /Users/iskys/venv/lib/python3.9/site-packages (from sklearn.utils) (1.2.2)\n",
      "Requirement already satisfied: numpy in /Users/iskys/venv/lib/python3.9/site-packages (from sklearn.utils) (1.24.2)\n",
      "Requirement already satisfied: pyfunctional in /Users/iskys/venv/lib/python3.9/site-packages (from sklearn.utils) (1.4.3)\n",
      "Requirement already satisfied: statsmodels in /Users/iskys/venv/lib/python3.9/site-packages (from sklearn.utils) (0.13.5)\n",
      "Requirement already satisfied: scipy in /Users/iskys/venv/lib/python3.9/site-packages (from sklearn.utils) (1.10.1)\n",
      "Requirement already satisfied: pandas in /Users/iskys/venv/lib/python3.9/site-packages (from sklearn.utils) (1.5.3)\n",
      "Requirement already satisfied: python-dateutil>=2.8.1 in /Users/iskys/venv/lib/python3.9/site-packages (from pandas->sklearn.utils) (2.8.2)\n",
      "Requirement already satisfied: pytz>=2020.1 in /Users/iskys/venv/lib/python3.9/site-packages (from pandas->sklearn.utils) (2022.7.1)\n",
      "Requirement already satisfied: dill>=0.2.5 in /Users/iskys/venv/lib/python3.9/site-packages (from pyfunctional->sklearn.utils) (0.3.6)\n",
      "Requirement already satisfied: tabulate<=1.0.0 in /Users/iskys/venv/lib/python3.9/site-packages (from pyfunctional->sklearn.utils) (0.9.0)\n",
      "Requirement already satisfied: joblib>=1.1.1 in /Users/iskys/venv/lib/python3.9/site-packages (from scikit-learn->sklearn.utils) (1.2.0)\n",
      "Requirement already satisfied: threadpoolctl>=2.0.0 in /Users/iskys/venv/lib/python3.9/site-packages (from scikit-learn->sklearn.utils) (3.1.0)\n",
      "Requirement already satisfied: matplotlib!=3.6.1,>=3.1 in /Users/iskys/venv/lib/python3.9/site-packages (from seaborn->sklearn.utils) (3.7.1)\n",
      "Requirement already satisfied: packaging>=21.3 in /Users/iskys/venv/lib/python3.9/site-packages (from statsmodels->sklearn.utils) (23.0)\n",
      "Requirement already satisfied: patsy>=0.5.2 in /Users/iskys/venv/lib/python3.9/site-packages (from statsmodels->sklearn.utils) (0.5.3)\n",
      "Requirement already satisfied: kiwisolver>=1.0.1 in /Users/iskys/venv/lib/python3.9/site-packages (from matplotlib!=3.6.1,>=3.1->seaborn->sklearn.utils) (1.4.4)\n",
      "Requirement already satisfied: fonttools>=4.22.0 in /Users/iskys/venv/lib/python3.9/site-packages (from matplotlib!=3.6.1,>=3.1->seaborn->sklearn.utils) (4.39.2)\n",
      "Requirement already satisfied: cycler>=0.10 in /Users/iskys/venv/lib/python3.9/site-packages (from matplotlib!=3.6.1,>=3.1->seaborn->sklearn.utils) (0.11.0)\n",
      "Requirement already satisfied: contourpy>=1.0.1 in /Users/iskys/venv/lib/python3.9/site-packages (from matplotlib!=3.6.1,>=3.1->seaborn->sklearn.utils) (1.0.7)\n",
      "Requirement already satisfied: pyparsing>=2.3.1 in /Users/iskys/venv/lib/python3.9/site-packages (from matplotlib!=3.6.1,>=3.1->seaborn->sklearn.utils) (3.0.9)\n",
      "Requirement already satisfied: importlib-resources>=3.2.0 in /Users/iskys/venv/lib/python3.9/site-packages (from matplotlib!=3.6.1,>=3.1->seaborn->sklearn.utils) (5.12.0)\n",
      "Requirement already satisfied: pillow>=6.2.0 in /Users/iskys/venv/lib/python3.9/site-packages (from matplotlib!=3.6.1,>=3.1->seaborn->sklearn.utils) (9.4.0)\n",
      "Requirement already satisfied: six in /Users/iskys/venv/lib/python3.9/site-packages (from patsy>=0.5.2->statsmodels->sklearn.utils) (1.16.0)\n",
      "Requirement already satisfied: zipp>=3.1.0 in /Users/iskys/venv/lib/python3.9/site-packages (from importlib-resources>=3.2.0->matplotlib!=3.6.1,>=3.1->seaborn->sklearn.utils) (3.15.0)\n",
      "\n",
      "\u001b[1m[\u001b[0m\u001b[34;49mnotice\u001b[0m\u001b[1;39;49m]\u001b[0m\u001b[39;49m A new release of pip is available: \u001b[0m\u001b[31;49m23.0.1\u001b[0m\u001b[39;49m -> \u001b[0m\u001b[32;49m23.1\u001b[0m\n",
      "\u001b[1m[\u001b[0m\u001b[34;49mnotice\u001b[0m\u001b[1;39;49m]\u001b[0m\u001b[39;49m To update, run: \u001b[0m\u001b[32;49mpip install --upgrade pip\u001b[0m\n"
     ]
    }
   ],
   "source": [
    "!pip install sklearn.utils"
   ]
  },
  {
   "cell_type": "code",
   "execution_count": 49,
   "id": "c484a7ec-688c-42df-9b44-7631f84b7854",
   "metadata": {
    "tags": []
   },
   "outputs": [],
   "source": [
    "from joblib import Parallel, delayed\n",
    "SEED = 111\n",
    "random.seed(SEED)\n",
    "np.random.seed(SEED)\n",
    "class RandomForestClassifierCustom(BaseEstimator):\n",
    "    def __init__(\n",
    "        self, n_estimators=10, max_depth=None, max_features=None, random_state=SEED\n",
    "    ):\n",
    "        self.n_estimators = n_estimators\n",
    "        self.max_depth = max_depth\n",
    "        self.max_features = max_features\n",
    "        self.random_state = random_state\n",
    "\n",
    "        self.trees = []\n",
    "        self.feat_ids_by_tree = []\n",
    "\n",
    "    def fit(self, X, y, n_jobs=1):\n",
    "        self.classes_ = sorted(np.unique(y))\n",
    "\n",
    "        pseudoselection = np.random.choice((X.shape[0]), size=X.shape[0], replace=True) # Создайте псевдовыборку\n",
    "\n",
    "        def fit_tree(i):\n",
    "            np.random.seed(self.random_state + i) # Зафиксируйте генератор случайных чисел\n",
    "            feat_ids = np.random.choice(X.shape[1], size=self.max_features, replace=False) # Выберите max_features признаков без возвращения\n",
    "            self.feat_ids_by_tree.append(feat_ids) # Сохраните список выбранных признаков\n",
    "            classifier = DecisionTreeClassifier(max_depth=self.max_depth,\n",
    "                                                max_features = self.max_features,\n",
    "                                                random_state=self.random_state + i)\n",
    "            classifier.fit(X[pseudoselection][:, feat_ids], y[pseudoselection])\n",
    "            return classifier\n",
    "\n",
    "        self.trees = Parallel(n_jobs=n_jobs)(delayed(fit_tree)(i) for i in range(self.n_estimators))\n",
    "\n",
    "        return self\n",
    "\n",
    "    def predict_proba(self, X, n_jobs=1):\n",
    "        def predict_proba_tree(tree, feature):\n",
    "            return tree.predict_proba(X[:, feature])\n",
    "        #np.random.seed(random_state)\n",
    "\n",
    "\n",
    "        y_pred = np.zeros((X.shape[0], len(self.classes_)))\n",
    "        y_trees = Parallel(n_jobs=n_jobs)(delayed(predict_proba_tree)(tree, feature) for tree, feature in zip(self.trees, self.feat_ids_by_tree))\n",
    "        for y_tree in y_trees:\n",
    "            y_pred += y_tree\n",
    "\n",
    "        return y_pred / self.n_estimators\n",
    "\n",
    "    def predict(self, X, n_jobs=1):\n",
    "        probas = self.predict_proba(X, n_jobs=n_jobs)\n",
    "        predictions = np.argmax(probas, axis=1)\n",
    "\n",
    "        return predictions\n",
    "X, y = make_classification(n_samples=100000)"
   ]
  },
  {
   "cell_type": "code",
   "execution_count": 52,
   "id": "84cdf225-2a4d-44bd-b707-70c8965bb661",
   "metadata": {
    "tags": []
   },
   "outputs": [],
   "source": [
    "from joblib import Parallel, delayed\n",
    "\n",
    "class RandomForestClassifierCustom(BaseEstimator):\n",
    "    def __init__(\n",
    "        self, n_estimators=10, max_depth=None, max_features=None, random_state=SEED\n",
    "    ):\n",
    "        self.n_estimators = n_estimators\n",
    "        self.max_depth = max_depth\n",
    "        self.max_features = max_features\n",
    "        self.random_state = random_state\n",
    "\n",
    "        self.trees = []\n",
    "        self.feat_ids_by_tree = []\n",
    "\n",
    "    def fit(self, X, y, n_jobs=1):\n",
    "        self.classes_ = sorted(np.unique(y))\n",
    "\n",
    "        def fit_tree(i):\n",
    "            np.random.seed(self.random_state + i) # Зафиксируйте генератор случайных чисел\n",
    "            feat_ids = np.random.choice(X.shape[1], size=self.max_features, replace=False) # Выберите max_features признаков без возвращения\n",
    "            self.feat_ids_by_tree.append(feat_ids) # Сохраните список выбранных признаков\n",
    "            pseudoselection = np.random.choice((X.shape[0]), size=X.shape[0], replace=True) # Создайте псевдовыборку\n",
    "            classifier = DecisionTreeClassifier(max_depth=self.max_depth,\n",
    "                                                max_features = self.max_features,\n",
    "                                                random_state=self.random_state + i)\n",
    "            classifier.fit(X[pseudoselection][:, feat_ids], y[pseudoselection])\n",
    "            return classifier\n",
    "\n",
    "        # Set the random seed the same way in both runs\n",
    "        np.random.seed(self.random_state)\n",
    "\n",
    "        self.trees = Parallel(n_jobs=n_jobs)(delayed(fit_tree)(i) for i in range(self.n_estimators))\n",
    "\n",
    "        return self\n",
    "\n",
    "    def predict_proba(self, X, n_jobs=1):\n",
    "        def predict_proba_tree(tree, feature):\n",
    "            return tree.predict_proba(X[:, feature])\n",
    "\n",
    "        y_pred = np.zeros((X.shape[0], len(self.classes_)))\n",
    "\n",
    "        # Use the same order of trees and feature indices in both runs\n",
    "        y_trees = Parallel(n_jobs=n_jobs)(delayed(predict_proba_tree)(tree, feature) for tree, feature in zip(self.trees, self.feat_ids_by_tree))\n",
    "        \n",
    "        for y_tree in y_trees:\n",
    "            y_pred += y_tree\n",
    "\n",
    "        return y_pred / self.n_estimators\n",
    "\n",
    "    def predict(self, X, n_jobs=1):\n",
    "        probas = self.predict_proba(X, n_jobs=n_jobs)\n",
    "        predictions = np.argmax(probas, axis=1)\n",
    "\n",
    "        return predictions\n",
    "\n",
    "X, y = make_classification(n_samples=100000)"
   ]
  },
  {
   "cell_type": "code",
   "execution_count": 84,
   "id": "f476e8a2-2d2f-4fd5-b0c9-2296235d689e",
   "metadata": {
    "tags": []
   },
   "outputs": [],
   "source": [
    "from joblib import Parallel, delayed\n",
    "\n",
    "class RandomForestClassifierCustom(BaseEstimator):\n",
    "    def __init__(\n",
    "        self, n_estimators=10, max_depth=None, max_features=None, random_state=SEED\n",
    "    ):\n",
    "        self.n_estimators = n_estimators\n",
    "        self.max_depth = max_depth\n",
    "        self.max_features = max_features\n",
    "        self.random_state = random_state\n",
    "\n",
    "        self.trees = []\n",
    "        self.feat_ids_by_tree = []\n",
    "\n",
    "    def fit(self, X, y, n_jobs=1):\n",
    "        self.classes_ = sorted(np.unique(y))\n",
    "\n",
    "        def fit_tree(i):\n",
    "            np.random.seed(self.random_state + i) # Зафиксируйте генератор случайных чисел\n",
    "            feat_ids = np.random.choice(X.shape[1], size=self.max_features, replace=False) # Выберите max_features признаков без возвращения\n",
    "            self.feat_ids_by_tree.append(feat_ids) # Сохраните список выбранных признаков\n",
    "            pseudoselection = np.random.choice((X.shape[0]), size=X.shape[0], replace=True) # Создайте псевдовыборку\n",
    "            classifier = DecisionTreeClassifier(max_depth=self.max_depth,\n",
    "                                                max_features = self.max_features,\n",
    "                                                random_state=self.random_state + i)\n",
    "            classifier.fit(X[pseudoselection][:, feat_ids], y[pseudoselection])\n",
    "            return classifier\n",
    "\n",
    "        self.trees = Parallel(n_jobs=n_jobs)(delayed(fit_tree)(i) for i in range(self.n_estimators))\n",
    "\n",
    "        # sort the trees and feature indices based on the random seed\n",
    "        if self.trees and self.feat_ids_by_tree:\n",
    "            indices = np.argsort([self.random_state + sum(x[1]) for x in zip(self.trees, self.feat_ids_by_tree)], kind='mergesort')\n",
    "            self.trees = [self.trees[i] for i in indices]\n",
    "            self.feat_ids_by_tree = [self.feat_ids_by_tree[i] for i in indices]\n",
    "\n",
    "        return self\n",
    "    def predict_proba(self, X, n_jobs=1):\n",
    "        def predict_proba_tree(tree, feature):\n",
    "            return tree.predict_proba(X[:, feature])\n",
    "\n",
    "        y_pred = np.zeros((X.shape[0], len(self.classes_)))\n",
    "        y_trees = Parallel(n_jobs=n_jobs)(delayed(predict_proba_tree)(tree, feature) for tree, feature in zip(self.trees, self.feat_ids_by_tree))\n",
    "        for y_tree in y_trees:\n",
    "            y_pred += y_tree\n",
    "\n",
    "        return y_pred / self.n_estimators\n",
    "\n",
    "    def predict(self, X, n_jobs=1):\n",
    "        probas = self.predict_proba(X, n_jobs=n_jobs)\n",
    "        predictions = np.argmax(probas, axis=1)\n",
    "\n",
    "        return predictions\n",
    "X, y = make_classification(n_samples=100000)"
   ]
  },
  {
   "cell_type": "code",
   "execution_count": 85,
   "id": "5eecd633-1ae5-49fb-8cd0-4fd4ec1d6c24",
   "metadata": {
    "tags": []
   },
   "outputs": [],
   "source": [
    "random_forest = RandomForestClassifierCustom(max_depth=30, n_estimators=10, max_features=2, random_state=42)"
   ]
  },
  {
   "cell_type": "code",
   "execution_count": 86,
   "id": "85861ddf-1fdd-4dce-8e91-67e2a20e294d",
   "metadata": {
    "tags": []
   },
   "outputs": [
    {
     "name": "stdout",
     "output_type": "stream",
     "text": [
      "CPU times: user 5 s, sys: 39.3 ms, total: 5.04 s\n",
      "Wall time: 5.04 s\n"
     ]
    }
   ],
   "source": [
    "%%time\n",
    "\n",
    "_ = random_forest.fit(X, y, n_jobs=1)"
   ]
  },
  {
   "cell_type": "code",
   "execution_count": 87,
   "id": "04e62ac4-91d0-4cac-9de9-b4be0b582e7b",
   "metadata": {
    "tags": []
   },
   "outputs": [
    {
     "name": "stdout",
     "output_type": "stream",
     "text": [
      "CPU times: user 167 ms, sys: 5.4 ms, total: 172 ms\n",
      "Wall time: 172 ms\n"
     ]
    }
   ],
   "source": [
    "%%time\n",
    "\n",
    "preds_1 = random_forest.predict(X, n_jobs=1)"
   ]
  },
  {
   "cell_type": "code",
   "execution_count": 88,
   "id": "fb3a3398-00e6-4380-b4c2-35aab1f9fcc4",
   "metadata": {
    "tags": []
   },
   "outputs": [],
   "source": [
    "random_forest = RandomForestClassifierCustom(max_depth=30, n_estimators=10, max_features=2, random_state=42)"
   ]
  },
  {
   "cell_type": "code",
   "execution_count": 89,
   "id": "9f14517f-7a80-4219-aff6-90097b59b085",
   "metadata": {
    "tags": []
   },
   "outputs": [
    {
     "name": "stdout",
     "output_type": "stream",
     "text": [
      "CPU times: user 27.3 ms, sys: 15.3 ms, total: 42.7 ms\n",
      "Wall time: 2.78 s\n"
     ]
    }
   ],
   "source": [
    "%%time\n",
    "\n",
    "_ = random_forest.fit(X, y, n_jobs=2)"
   ]
  },
  {
   "cell_type": "code",
   "execution_count": 90,
   "id": "c7f01f97-4ad4-4bed-a977-c8bd3ae962fd",
   "metadata": {
    "tags": []
   },
   "outputs": [
    {
     "name": "stdout",
     "output_type": "stream",
     "text": [
      "CPU times: user 2.47 ms, sys: 2.79 ms, total: 5.25 ms\n",
      "Wall time: 3.39 ms\n"
     ]
    }
   ],
   "source": [
    "%%time\n",
    "\n",
    "preds_2 = random_forest.predict(X, n_jobs=2)"
   ]
  },
  {
   "cell_type": "code",
   "execution_count": 92,
   "id": "1ab904a7-9e05-4eb6-96c7-387ffb3254a6",
   "metadata": {
    "tags": []
   },
   "outputs": [
    {
     "data": {
      "text/plain": [
       "array([1, 1, 0, ..., 1, 0, 1])"
      ]
     },
     "execution_count": 92,
     "metadata": {},
     "output_type": "execute_result"
    }
   ],
   "source": [
    "preds_1"
   ]
  },
  {
   "cell_type": "code",
   "execution_count": 93,
   "id": "91cb1e1b-9371-45f3-80d8-d22a95b02f6f",
   "metadata": {
    "tags": []
   },
   "outputs": [
    {
     "data": {
      "text/plain": [
       "array([0, 0, 0, ..., 0, 0, 0])"
      ]
     },
     "execution_count": 93,
     "metadata": {},
     "output_type": "execute_result"
    }
   ],
   "source": [
    "preds_2"
   ]
  },
  {
   "cell_type": "code",
   "execution_count": 91,
   "id": "547ba1fd-9535-4267-93f8-3cc927f71e03",
   "metadata": {
    "tags": []
   },
   "outputs": [
    {
     "data": {
      "text/plain": [
       "False"
      ]
     },
     "execution_count": 91,
     "metadata": {},
     "output_type": "execute_result"
    }
   ],
   "source": [
    "(preds_1 == preds_2).all()   # Количество worker'ов не должно влиять на предсказания"
   ]
  },
  {
   "cell_type": "markdown",
   "id": "0a2ea6af-f73d-436a-94d9-f7310ac9a4e6",
   "metadata": {},
   "source": [
    "#### Какие есть недостатки у вашей реализации параллельного Random Forest (если они есть)? Как это можно исправить? Опишите словами, можно без кода (+1 дополнительный балл)"
   ]
  },
  {
   "cell_type": "markdown",
   "id": "19f2f04d-2c35-4d7d-a8fe-7f88d538fb79",
   "metadata": {},
   "source": [
    "Ответ пишите тут"
   ]
  },
  {
   "cell_type": "markdown",
   "id": "f020bb22-a29e-4e39-aba9-d41e79a80732",
   "metadata": {},
   "source": [
    "# Задание 2 (9 баллов)"
   ]
  },
  {
   "cell_type": "markdown",
   "id": "e3a8a0d2-f35b-4edb-9fb3-61da119255e9",
   "metadata": {},
   "source": [
    "Напишите декоратор `memory_limit`, который позволит ограничивать использование памяти декорируемой функцией.\n",
    "\n",
    "Декоратор должен принимать следующие аргументы:\n",
    "1. `soft_limit` - \"мягкий\" лимит использования памяти. При превышении функцией этого лимита должен будет отображён **warning**\n",
    "2. `hard_limit` - \"жёсткий\" лимит использования памяти. При превышении функцией этого лимита должно будет брошено исключение, а функция должна немедленно завершить свою работу\n",
    "3. `poll_interval` - интервал времени (в секундах) между проверками использования памяти\n",
    "\n",
    "Требования:\n",
    "1. Потребление функцией памяти должно отслеживаться **во время выполнения функции**, а не после её завершения\n",
    "2. **warning** при превышении `soft_limit` должен отображаться один раз, даже если функция переходила через этот лимит несколько раз\n",
    "3. Если задать `soft_limit` или `hard_limit` как `None`, то соответствующий лимит должен быть отключён\n",
    "4. Лимиты должны передаваться и отображаться в формате `<number>X`, где `X` - символ, обозначающий порядок единицы измерения памяти (\"B\", \"K\", \"M\", \"G\", \"T\", ...)\n",
    "5. В тексте warning'ов и исключений должен быть указан текщий объём используемой памяти и величина превышенного лимита\n",
    "\n",
    "В задании можно использовать только модули из **стандартной библиотеки** питона, можно писать вспомогательные функции и/или классы\n",
    "\n",
    "В коде ниже для вас предопределены некоторые полезные функции, вы можете ими пользоваться, а можете не пользоваться"
   ]
  },
  {
   "cell_type": "code",
   "execution_count": 1,
   "id": "78299479-f7e3-409c-b144-d9a14bb1715a",
   "metadata": {
    "tags": []
   },
   "outputs": [],
   "source": [
    "import os\n",
    "import psutil\n",
    "import time\n",
    "import warnings\n",
    "\n",
    "def get_memory_usage() -> int:    # Показывает текущее потребление памяти процессом\n",
    "    process = psutil.Process(os.getpid())\n",
    "    mem_info = process.memory_info()\n",
    "    return mem_info.rss\n",
    "\n",
    "\n",
    "def bytes_to_human_readable(n_bytes:int) -> str:\n",
    "    symbols = ('K', 'M', 'G', 'T', 'P', 'E', 'Z', 'Y')\n",
    "    prefix = {}\n",
    "    for idx, s in enumerate(symbols):\n",
    "        prefix[s] = 1 << (idx + 1) * 10\n",
    "    for s in reversed(symbols):\n",
    "        if n_bytes >= prefix[s]:\n",
    "            value = float(n_bytes) / prefix[s]\n",
    "            return f\"{value:.2f}{s}\"\n",
    "    return f\"{n_bytes}B\"\n",
    "\n",
    "def memory_limit(soft_limit: Optional[str] = None, hard_limit: Optional[str] = None, poll_interval: float = 1) -> Callable:\n",
    "    def decorator(func: Callable) -> Callable:\n",
    "        def wrapper(*args, **kwargs):\n",
    "            def print_warning() -> int:\n",
    "                mem = get_memory_usage()\n",
    "                if mem > soft_limit_bytes and not warning_printed[0]:\n",
    "                    warnings.warn(f\"Memory usage ({bytes_to_human_readable(mem)}) is above the soft limit ({bytes_to_human_readable(soft_limit_bytes)})\")\n",
    "                    warning_printed[0] = True\n",
    "                return mem\n",
    "            \n",
    "            def check_hard_limit():\n",
    "                mem = get_memory_usage()\n",
    "                if mem > hard_limit_bytes:\n",
    "                    raise MemoryError(f\"Memory usage ({bytes_to_human_readable(mem)}) is above the hard limit ({bytes_to_human_readable(hard_limit_bytes)})\")\n",
    "\n",
    "            warning_printed = [False]   # Флаг, показывающий, было ли уже напечатано warning при превышении soft_limit\n",
    "            soft_limit_bytes = None if soft_limit is None else int(soft_limit[:-1]) * (1024 ** \"BKMGT\".index(soft_limit[-1]))\n",
    "            hard_limit_bytes = None if hard_limit is None else int(float(hard_limit[:-1]) * (1024 ** \"BKMGT\".index(hard_limit[-1])))\n",
    "            \n",
    "            t = time.time()\n",
    "            max_mem = 0\n",
    "            while True:\n",
    "                try:\n",
    "                    mem = print_warning()\n",
    "                    check_hard_limit()\n",
    "                    max_mem = max(max_mem, mem)\n",
    "                    result = func(*args, **kwargs)\n",
    "                    return result\n",
    "                finally:\n",
    "                    time.sleep(poll_interval)\n",
    "                    if time.time() - t > 60:  # Если функция выполняется более 60 секунд, перестаём отслеживать память\n",
    "                        break\n",
    "            raise Exception(f\"Memory usage ({bytes_to_human_readable(max_mem)}) exceeded the soft limit ({bytes_to_human_readable(soft_limit_bytes)})\")\n",
    "        return wrapper\n",
    "    return decorator"
   ]
  },
  {
   "cell_type": "code",
   "execution_count": 4,
   "id": "e5466565-e46c-425e-a7bc-556a13633a0d",
   "metadata": {
    "tags": []
   },
   "outputs": [],
   "source": [
    "@memory_limit(soft_limit=\"512M\", hard_limit=\"1.5G\", poll_interval=0.1)\n",
    "def memory_increment():\n",
    "    \"\"\"\n",
    "    Функция для тестирования\n",
    "    \n",
    "    В течение нескольких секунд достигает использования памяти 1.89G\n",
    "    Потребление памяти и скорость накопления можно варьировать, изменяя код\n",
    "    \"\"\"\n",
    "    lst = []\n",
    "    for i in range(50000000):\n",
    "        if i % 500000 == 0:\n",
    "            time.sleep(0.1)\n",
    "        lst.append(i)\n",
    "    return lst\n"
   ]
  },
  {
   "cell_type": "code",
   "execution_count": 5,
   "id": "bb686882-1d42-42de-97e1-c31acd258bdf",
   "metadata": {
    "tags": []
   },
   "outputs": [
    {
     "name": "stdout",
     "output_type": "stream",
     "text": [
      "<function memory_limit.<locals>.decorator at 0x1055689d0>\n"
     ]
    }
   ],
   "source": [
    "result = memory_increment()\n",
    "print(memory_limit(result))"
   ]
  },
  {
   "cell_type": "markdown",
   "id": "4bf0a185-3fd7-4d48-bfeb-cf6ce8b12893",
   "metadata": {},
   "source": [
    "# Задание 3 (11 баллов)"
   ]
  },
  {
   "cell_type": "markdown",
   "id": "77eec6f5-3d52-43fc-b241-9114eb9c813c",
   "metadata": {},
   "source": [
    "Напишите функцию `parallel_map`. Это должна быть **универсальная** функция для распараллеливания, которая эффективно работает в любых условиях.\n",
    "\n",
    "Функция должна принимать следующие аргументы:\n",
    "1. `target_func` - целевая функция (обязательный аргумент)\n",
    "2. `args_container` - контейнер с позиционными аргументами для `target_func` (по-умолчанию `None` - позиционные аргументы не передаются)\n",
    "3. `kwargs_container` - контейнер с именованными аргументами для `target_func` (по-умолчанию `None` - именованные аргументы не передаются)\n",
    "4. `n_jobs` - количество workers, которые будут использованы для выполнения (по-умолчанию `None` - количество логических ядер CPU в системе)\n",
    "\n",
    "Функция должна работать аналогично `***PoolExecutor.map`, применяя функцию к переданному набору аргументов, но с некоторыми дополнениями и улучшениями\n",
    "    \n",
    "Поскольку мы пишем **универсальную** функцию, то нам нужно будет выполнить ряд требований, чтобы она могла логично и эффективно работать в большинстве ситуаций\n",
    "\n",
    "1. `target_func` может принимать аргументы любого вида в любом количестве\n",
    "2. Любые типы данных в `args_container`, кроме `tuple`, передаются в `target_func` как единственный позиционный аргумент. `tuple` распаковываются в несколько аргументов\n",
    "3. Количество элементов в `args_container` должно совпадать с количеством элементов в `kwargs_container` и наоборот, также значение одного из них или обоих может быть равно `None`, в иных случаях должна кидаться ошибка (оба аргумента переданы, но размеры не совпадают)\n",
    "\n",
    "4. Функция должна выполнять определённое количество параллельных вызовов `target_func`, это количество зависит от числа переданных аргументов и значения `n_jobs`. Сценарии могут быть следующие\n",
    "    + `args_container=None`, `kwargs_container=None`, `n_jobs=None`. В таком случае функция `target_func` выполнится параллельно столько раз, сколько на вашем устройстве логических ядер CPU\n",
    "    + `args_container=None`, `kwargs_container=None`, `n_jobs=5`. В таком случае функция `target_func` выполнится параллельно **5** раз\n",
    "    + `args_container=[1, 2, 3]`, `kwargs_container=None`, `n_jobs=5`. В таком случае функция `target_func` выполнится параллельно **3** раза, несмотря на то, что `n_jobs=5` (так как есть всего 3 набора аргументов для которых нам нужно получить результат, а лишние worker'ы создавать не имеет смысла)\n",
    "    + `args_container=None`, `kwargs_container=[{\"s\": 1}, {\"s\": 2}, {\"s\": 3}]`, `n_jobs=5`. Данный случай аналогичен предыдущему, но здесь мы используем именованные аргументы\n",
    "    + `args_container=[1, 2, 3]`, `kwargs_container=[{\"s\": 1}, {\"s\": 2}, {\"s\": 3}]`, `n_jobs=5`. Данный случай аналогичен предыдущему, но здесь мы используем и позиционные, и именованные аргументы\n",
    "    + `args_container=[1, 2, 3, 4]`, `kwargs_container=None`, `n_jobs=2`. В таком случае в каждый момент времени параллельно будет выполняться **не более 2** функций `target_func`, так как нам нужно выполнить её 4 раза, но у нас есть только 2 worker'а.\n",
    "    + В подобных случаях (из примера выше) должно оптимизироваться время выполнения. Если эти 4 вызова выполняются за 5, 1, 2 и 1 секунды, то параллельное выполнение с `n_jobs=2` должно занять **5 секунд** (не 7 и тем более не 10)\n",
    "\n",
    "5. `parallel_map` возвращает результаты выполнения `target_func` **в том же порядке**, в котором были переданы соответствующие аргументы\n",
    "6. Работает с функциями, созданными внутри других функций\n",
    "\n",
    "Для базового решения от вас не ожидается **сверххорошая** оптимизация по времени и памяти для всех возможных случаев. Однако за хорошо оптимизированную логику работы можно получить до **+3 дополнительных баллов**\n",
    "\n",
    "Вы можете сделать класс вместо функции, если вам удобнее\n",
    "\n",
    "В задании можно использовать только модули из **стандартной библиотеки** питона\n",
    "\n",
    "Ниже приведены тестовые примеры по каждому из требований"
   ]
  },
  {
   "cell_type": "code",
   "execution_count": 22,
   "id": "a917005b-bc1e-4229-9eef-d33bfe7050c2",
   "metadata": {},
   "outputs": [],
   "source": [
    "def parallel_map(target_func,\n",
    "                 args_container=None,\n",
    "                 kwargs_container=None,\n",
    "                 n_jobs=None):\n",
    "    # Ваш код здесь"
   ]
  },
  {
   "cell_type": "code",
   "execution_count": 57,
   "id": "47ab8610-d97f-414e-9faf-113bf47459ba",
   "metadata": {
    "tags": []
   },
   "outputs": [],
   "source": [
    "from concurrent.futures import ThreadPoolExecutor, ProcessPoolExecutor, as_completed\n",
    "from itertools import repeat\n",
    "import os\n",
    "\n",
    "def parallel_map(target_func, args_container=None, kwargs_container=None, n_jobs=None):\n",
    "    if args_container is None:\n",
    "        args_container = [()] * len(kwargs_container)\n",
    "    elif kwargs_container is None:\n",
    "        kwargs_container = [{}] * len(args_container)\n",
    "    \n",
    "    if len(args_container) != len(kwargs_container):\n",
    "        raise ValueError(\"args_container and kwargs_container must have the same length\")\n",
    "    \n",
    "    if n_jobs is None:\n",
    "        n_jobs = os.cpu_count()\n",
    "    \n",
    "    if n_jobs <= 0:\n",
    "        raise ValueError(\"n_jobs must be a positive integer\")\n",
    "    \n",
    "    if n_jobs > len(args_container):\n",
    "        n_jobs = len(args_container)\n",
    "    \n",
    "    # Create an executor based on the number of jobs\n",
    "    executor_type = ThreadPoolExecutor if n_jobs == 1 else ProcessPoolExecutor\n",
    "    with executor_type(max_workers=n_jobs) as executor:\n",
    "        # Create an iterator with the arguments to pass to target_func\n",
    "        args_iterator = zip(args_container, kwargs_container)\n",
    "        \n",
    "        # Submit tasks to the executor and store the futures in a list\n",
    "        futures = [executor.submit(target_func, *args, **kwargs) for args, kwargs in args_iterator]\n",
    "        \n",
    "        # Iterate over the completed futures and store the results in a list\n",
    "        results = [future.result() for future in as_completed(futures)]\n",
    "    \n",
    "    return results"
   ]
  },
  {
   "cell_type": "code",
   "execution_count": 1,
   "id": "bd9b6964-fce8-4cbc-b075-0789f36025e6",
   "metadata": {
    "tags": []
   },
   "outputs": [],
   "source": [
    "import multiprocessing\n",
    "\n",
    "def parallel_map(target_func, args_container=None, kwargs_container=None, n_jobs=None):\n",
    "    def wrapper(target_func, args, kwargs):\n",
    "        return target_func(*args, **kwargs)\n",
    "\n",
    "    # определяем количество заданий\n",
    "    num_tasks = max([len(args_container) if args_container is not None else 0, \n",
    "                     len(kwargs_container) if kwargs_container is not None else 0])\n",
    "    # определяем количество воркеров\n",
    "    if n_jobs is None:\n",
    "        n_jobs = multiprocessing.cpu_count()\n",
    "    else:\n",
    "        n_jobs = min(n_jobs, num_tasks)\n",
    "    \n",
    "    with multiprocessing.Pool(processes=n_jobs) as pool:\n",
    "        # создаем список аргументов для функции wrapper\n",
    "        args_list = []\n",
    "        for i in range(num_tasks):\n",
    "            args = [] if args_container is None else args_container[i] if isinstance(args_container[i], tuple) else [args_container[i]]\n",
    "            kwargs = {} if kwargs_container is None else kwargs_container[i]\n",
    "            args_list.append((target_func, args, kwargs))\n",
    "        \n",
    "        # запускаем функцию wrapper с использованием воркеров\n",
    "        results = pool.starmap(wrapper, args_list)\n",
    "    \n",
    "    return results"
   ]
  },
  {
   "cell_type": "code",
   "execution_count": 97,
   "id": "a1e4234f-9e9b-4fcb-ad0e-b9cd94f723f7",
   "metadata": {
    "tags": []
   },
   "outputs": [],
   "source": [
    "from concurrent.futures import ThreadPoolExecutor, as_completed\n",
    "from typing import Any, List, Tuple, Union\n",
    "import os\n",
    "\n",
    "def parallel_map(target_func, args_container=None, kwargs_container=None, n_jobs=None) -> List[Any]:\n",
    "    if args_container is None and kwargs_container is None:\n",
    "        raise ValueError(\"At least one of args_container or kwargs_container must be non-None\")\n",
    "    \n",
    "    if args_container is not None and kwargs_container is not None:\n",
    "        if len(args_container) != len(kwargs_container):\n",
    "            raise ValueError(\"args_container and kwargs_container must have same length\")\n",
    "    elif args_container is not None:\n",
    "        kwargs_container = [{}] * len(args_container)\n",
    "    else:\n",
    "        args_container = [()] * len(kwargs_container)\n",
    "\n",
    "    if n_jobs is None:\n",
    "        n_jobs = os.cpu_count()\n",
    "    \n",
    "    if len(args_container) < n_jobs:\n",
    "        n_jobs = len(args_container)\n",
    "    \n",
    "    results = [None] * len(args_container)\n",
    "\n",
    "    def worker(func, args, kwargs, i):\n",
    "        results[i] = func(*args, **kwargs)\n",
    "    \n",
    "    with ThreadPoolExecutor(max_workers=n_jobs) as executor:\n",
    "        futures = []\n",
    "        for i, (args, kwargs) in enumerate(zip(args_container, kwargs_container)):\n",
    "            futures.append(executor.submit(worker, target_func, args, kwargs, i))\n",
    "        for future in as_completed(futures):\n",
    "            future.result()\n",
    "    \n",
    "    return results"
   ]
  },
  {
   "cell_type": "code",
   "execution_count": 120,
   "id": "617628ac-af07-4817-b209-56cc50bace39",
   "metadata": {
    "tags": []
   },
   "outputs": [],
   "source": [
    "from concurrent.futures import ThreadPoolExecutor\n",
    "from typing import Any, List, Dict, Tuple, Union\n",
    "import os\n",
    "\n",
    "def parallel_map(target_func: callable, args_container: List[Any]=None,\n",
    "                 kwargs_container: List[Dict[str, Any]]=None, n_jobs: int=None) -> List[Any]:\n",
    "    \n",
    "    # Определяем количество задач\n",
    "    if args_container is None and kwargs_container is None:\n",
    "        num_tasks = 0\n",
    "    elif (args_container is None and kwargs_container is not None) or (args_container is not None and kwargs_container is None):\n",
    "        raise ValueError(\"args_container and kwargs_container must have the same length\")\n",
    "    else:\n",
    "        num_tasks = len(args_container)\n",
    "        \n",
    "    # Определяем количество worker'ов\n",
    "    if n_jobs is None:\n",
    "        n_jobs = os.cpu_count()\n",
    "    else:\n",
    "        n_jobs = min(n_jobs, os.cpu_count())\n",
    "    \n",
    "    # Функция, которая будет вызываться в потоке\n",
    "    def target_func_wrapper(*args, **kwargs):\n",
    "        return target_func(*args, **kwargs)\n",
    "    \n",
    "    # Создаем пул потоков\n",
    "    with ThreadPoolExecutor(max_workers=n_jobs) as executor:\n",
    "        \n",
    "        # Результаты выполнения функции\n",
    "        results = []\n",
    "        \n",
    "        # Определяем, сколько задач будем выполнять одновременно\n",
    "        tasks_per_worker = max(1, num_tasks // n_jobs)\n",
    "        \n",
    "        # Создаем пустой список kwargs_container, если он не задан изначально\n",
    "        if kwargs_container is None:\n",
    "            kwargs_container = [{}] * num_tasks\n",
    "        \n",
    "        # Итерируемся по количеству worker'ов\n",
    "        for i in range(n_jobs):\n",
    "            \n",
    "            # Начальный индекс задачи для текущего worker'а\n",
    "            start_idx = i * tasks_per_worker\n",
    "            \n",
    "            # Конечный индекс задачи для текущего worker'а\n",
    "            end_idx = min(num_tasks, start_idx + tasks_per_worker)\n",
    "            \n",
    "            # Формируем список позиционных аргументов для функции\n",
    "            args = []\n",
    "            if args_container is not None:\n",
    "                args = args_container[start_idx:end_idx]\n",
    "                # Если элементы списка args_container - кортежи, то распаковываем их\n",
    "                args = [arg if isinstance(arg, tuple) else (arg,) for arg in args]\n",
    "                \n",
    "            # Формируем список именованных аргументов для функции\n",
    "            kwargs = {}\n",
    "            if kwargs_container is None:\n",
    "                kwargs_container = [{}] * num_tasks\n",
    "            if kwargs_container is not None:\n",
    "                kwargs = kwargs_container[start_idx:end_idx]\n",
    "            \n",
    "\n",
    "                \n",
    "            # Выполняем функцию в потоке\n",
    "            futures = [executor.submit(target_func_wrapper, *arg, **kwarg) for arg, kwarg in zip(args, kwargs)]\n",
    "            \n",
    "            # Добавляем результат выполнения задач в список результатов\n",
    "            for future in futures:\n",
    "                results.append(future.result())\n",
    "                \n",
    "    return results\n"
   ]
  },
  {
   "cell_type": "code",
   "execution_count": 121,
   "id": "0f41b1c8-0d26-483e-8114-1e7638006e34",
   "metadata": {
    "tags": []
   },
   "outputs": [],
   "source": [
    "import time\n",
    "\n",
    "\n",
    "# Это только один пример тестовой функции, ваша parallel_map должна уметь эффективно работать с ЛЮБЫМИ функциями\n",
    "# Поэтому обязательно протестируйте код на чём-нибудбь ещё\n",
    "def test_func(x=1, s=2, a=1, b=1, c=1):\n",
    "    time.sleep(s)\n",
    "    return a*x**2 + b*x + c"
   ]
  },
  {
   "cell_type": "code",
   "execution_count": 122,
   "id": "54d48c99-6e8a-4990-8944-e5da424efdbd",
   "metadata": {
    "tags": []
   },
   "outputs": [
    {
     "ename": "ValueError",
     "evalue": "args_container and kwargs_container must have the same length",
     "output_type": "error",
     "traceback": [
      "\u001b[0;31m---------------------------------------------------------------------------\u001b[0m",
      "\u001b[0;31mValueError\u001b[0m                                Traceback (most recent call last)",
      "File \u001b[0;32m<timed eval>:3\u001b[0m\n",
      "Cell \u001b[0;32mIn[120], line 12\u001b[0m, in \u001b[0;36mparallel_map\u001b[0;34m(target_func, args_container, kwargs_container, n_jobs)\u001b[0m\n\u001b[1;32m     10\u001b[0m     num_tasks \u001b[38;5;241m=\u001b[39m \u001b[38;5;241m0\u001b[39m\n\u001b[1;32m     11\u001b[0m \u001b[38;5;28;01melif\u001b[39;00m (args_container \u001b[38;5;129;01mis\u001b[39;00m \u001b[38;5;28;01mNone\u001b[39;00m \u001b[38;5;129;01mand\u001b[39;00m kwargs_container \u001b[38;5;129;01mis\u001b[39;00m \u001b[38;5;129;01mnot\u001b[39;00m \u001b[38;5;28;01mNone\u001b[39;00m) \u001b[38;5;129;01mor\u001b[39;00m (args_container \u001b[38;5;129;01mis\u001b[39;00m \u001b[38;5;129;01mnot\u001b[39;00m \u001b[38;5;28;01mNone\u001b[39;00m \u001b[38;5;129;01mand\u001b[39;00m kwargs_container \u001b[38;5;129;01mis\u001b[39;00m \u001b[38;5;28;01mNone\u001b[39;00m):\n\u001b[0;32m---> 12\u001b[0m     \u001b[38;5;28;01mraise\u001b[39;00m \u001b[38;5;167;01mValueError\u001b[39;00m(\u001b[38;5;124m\"\u001b[39m\u001b[38;5;124margs_container and kwargs_container must have the same length\u001b[39m\u001b[38;5;124m\"\u001b[39m)\n\u001b[1;32m     13\u001b[0m \u001b[38;5;28;01melse\u001b[39;00m:\n\u001b[1;32m     14\u001b[0m     num_tasks \u001b[38;5;241m=\u001b[39m \u001b[38;5;28mlen\u001b[39m(args_container)\n",
      "\u001b[0;31mValueError\u001b[0m: args_container and kwargs_container must have the same length"
     ]
    }
   ],
   "source": [
    "%%time\n",
    "\n",
    "# Пример 2.1\n",
    "# Отдельные значения в args_container передаются в качестве позиционных аргументов\n",
    "parallel_map(test_func, args_container=[1, 2.0, 3j-1, 4])  # Здесь происходят параллельные вызовы: test_func(1) test_func(2.0) test_func(3j-1) test_func(4)"
   ]
  },
  {
   "cell_type": "code",
   "execution_count": 100,
   "id": "dd0da716-5bbf-4925-b87a-7efe82c51cf9",
   "metadata": {
    "tags": []
   },
   "outputs": [
    {
     "ename": "TypeError",
     "evalue": "__main__.test_func() argument after * must be an iterable, not int",
     "output_type": "error",
     "traceback": [
      "\u001b[0;31m---------------------------------------------------------------------------\u001b[0m",
      "\u001b[0;31mTypeError\u001b[0m                                 Traceback (most recent call last)",
      "File \u001b[0;32m<timed eval>:3\u001b[0m\n",
      "Cell \u001b[0;32mIn[97], line 33\u001b[0m, in \u001b[0;36mparallel_map\u001b[0;34m(target_func, args_container, kwargs_container, n_jobs)\u001b[0m\n\u001b[1;32m     31\u001b[0m         futures\u001b[38;5;241m.\u001b[39mappend(executor\u001b[38;5;241m.\u001b[39msubmit(worker, target_func, args, kwargs, i))\n\u001b[1;32m     32\u001b[0m     \u001b[38;5;28;01mfor\u001b[39;00m future \u001b[38;5;129;01min\u001b[39;00m as_completed(futures):\n\u001b[0;32m---> 33\u001b[0m         \u001b[43mfuture\u001b[49m\u001b[38;5;241;43m.\u001b[39;49m\u001b[43mresult\u001b[49m\u001b[43m(\u001b[49m\u001b[43m)\u001b[49m\n\u001b[1;32m     35\u001b[0m \u001b[38;5;28;01mreturn\u001b[39;00m results\n",
      "File \u001b[0;32m/Library/Developer/CommandLineTools/Library/Frameworks/Python3.framework/Versions/3.9/lib/python3.9/concurrent/futures/_base.py:438\u001b[0m, in \u001b[0;36mFuture.result\u001b[0;34m(self, timeout)\u001b[0m\n\u001b[1;32m    436\u001b[0m     \u001b[38;5;28;01mraise\u001b[39;00m CancelledError()\n\u001b[1;32m    437\u001b[0m \u001b[38;5;28;01melif\u001b[39;00m \u001b[38;5;28mself\u001b[39m\u001b[38;5;241m.\u001b[39m_state \u001b[38;5;241m==\u001b[39m FINISHED:\n\u001b[0;32m--> 438\u001b[0m     \u001b[38;5;28;01mreturn\u001b[39;00m \u001b[38;5;28;43mself\u001b[39;49m\u001b[38;5;241;43m.\u001b[39;49m\u001b[43m__get_result\u001b[49m\u001b[43m(\u001b[49m\u001b[43m)\u001b[49m\n\u001b[1;32m    440\u001b[0m \u001b[38;5;28mself\u001b[39m\u001b[38;5;241m.\u001b[39m_condition\u001b[38;5;241m.\u001b[39mwait(timeout)\n\u001b[1;32m    442\u001b[0m \u001b[38;5;28;01mif\u001b[39;00m \u001b[38;5;28mself\u001b[39m\u001b[38;5;241m.\u001b[39m_state \u001b[38;5;129;01min\u001b[39;00m [CANCELLED, CANCELLED_AND_NOTIFIED]:\n",
      "File \u001b[0;32m/Library/Developer/CommandLineTools/Library/Frameworks/Python3.framework/Versions/3.9/lib/python3.9/concurrent/futures/_base.py:390\u001b[0m, in \u001b[0;36mFuture.__get_result\u001b[0;34m(self)\u001b[0m\n\u001b[1;32m    388\u001b[0m \u001b[38;5;28;01mif\u001b[39;00m \u001b[38;5;28mself\u001b[39m\u001b[38;5;241m.\u001b[39m_exception:\n\u001b[1;32m    389\u001b[0m     \u001b[38;5;28;01mtry\u001b[39;00m:\n\u001b[0;32m--> 390\u001b[0m         \u001b[38;5;28;01mraise\u001b[39;00m \u001b[38;5;28mself\u001b[39m\u001b[38;5;241m.\u001b[39m_exception\n\u001b[1;32m    391\u001b[0m     \u001b[38;5;28;01mfinally\u001b[39;00m:\n\u001b[1;32m    392\u001b[0m         \u001b[38;5;66;03m# Break a reference cycle with the exception in self._exception\u001b[39;00m\n\u001b[1;32m    393\u001b[0m         \u001b[38;5;28mself\u001b[39m \u001b[38;5;241m=\u001b[39m \u001b[38;5;28;01mNone\u001b[39;00m\n",
      "File \u001b[0;32m/Library/Developer/CommandLineTools/Library/Frameworks/Python3.framework/Versions/3.9/lib/python3.9/concurrent/futures/thread.py:52\u001b[0m, in \u001b[0;36m_WorkItem.run\u001b[0;34m(self)\u001b[0m\n\u001b[1;32m     49\u001b[0m     \u001b[38;5;28;01mreturn\u001b[39;00m\n\u001b[1;32m     51\u001b[0m \u001b[38;5;28;01mtry\u001b[39;00m:\n\u001b[0;32m---> 52\u001b[0m     result \u001b[38;5;241m=\u001b[39m \u001b[38;5;28;43mself\u001b[39;49m\u001b[38;5;241;43m.\u001b[39;49m\u001b[43mfn\u001b[49m\u001b[43m(\u001b[49m\u001b[38;5;241;43m*\u001b[39;49m\u001b[38;5;28;43mself\u001b[39;49m\u001b[38;5;241;43m.\u001b[39;49m\u001b[43margs\u001b[49m\u001b[43m,\u001b[49m\u001b[43m \u001b[49m\u001b[38;5;241;43m*\u001b[39;49m\u001b[38;5;241;43m*\u001b[39;49m\u001b[38;5;28;43mself\u001b[39;49m\u001b[38;5;241;43m.\u001b[39;49m\u001b[43mkwargs\u001b[49m\u001b[43m)\u001b[49m\n\u001b[1;32m     53\u001b[0m \u001b[38;5;28;01mexcept\u001b[39;00m \u001b[38;5;167;01mBaseException\u001b[39;00m \u001b[38;5;28;01mas\u001b[39;00m exc:\n\u001b[1;32m     54\u001b[0m     \u001b[38;5;28mself\u001b[39m\u001b[38;5;241m.\u001b[39mfuture\u001b[38;5;241m.\u001b[39mset_exception(exc)\n",
      "Cell \u001b[0;32mIn[97], line 26\u001b[0m, in \u001b[0;36mparallel_map.<locals>.worker\u001b[0;34m(func, args, kwargs, i)\u001b[0m\n\u001b[1;32m     25\u001b[0m \u001b[38;5;28;01mdef\u001b[39;00m \u001b[38;5;21mworker\u001b[39m(func, args, kwargs, i):\n\u001b[0;32m---> 26\u001b[0m     results[i] \u001b[38;5;241m=\u001b[39m \u001b[43mfunc\u001b[49m\u001b[43m(\u001b[49m\u001b[38;5;241;43m*\u001b[39;49m\u001b[43margs\u001b[49m\u001b[43m,\u001b[49m\u001b[43m \u001b[49m\u001b[38;5;241;43m*\u001b[39;49m\u001b[38;5;241;43m*\u001b[39;49m\u001b[43mkwargs\u001b[49m\u001b[43m)\u001b[49m\n",
      "\u001b[0;31mTypeError\u001b[0m: __main__.test_func() argument after * must be an iterable, not int"
     ]
    }
   ],
   "source": [
    "%%time\n",
    "\n",
    "# Пример 2.2\n",
    "# Элементы типа tuple в args_container распаковываются в качестве позиционных аргументов\n",
    "parallel_map(test_func, [(1, 1), (2.0, 2), (3j-1, 3), 4])    # Здесь происходят параллельные вызовы: test_func(1, 1) test_func(2.0, 2) test_func(3j-1, 3) test_func(4)"
   ]
  },
  {
   "cell_type": "code",
   "execution_count": 101,
   "id": "e2a0e6fd-1d92-4f06-9e4b-51290501c2da",
   "metadata": {
    "tags": []
   },
   "outputs": [
    {
     "ename": "TypeError",
     "evalue": "__main__.test_func() argument after * must be an iterable, not int",
     "output_type": "error",
     "traceback": [
      "\u001b[0;31m---------------------------------------------------------------------------\u001b[0m",
      "\u001b[0;31mTypeError\u001b[0m                                 Traceback (most recent call last)",
      "File \u001b[0;32m<timed eval>:3\u001b[0m\n",
      "Cell \u001b[0;32mIn[97], line 33\u001b[0m, in \u001b[0;36mparallel_map\u001b[0;34m(target_func, args_container, kwargs_container, n_jobs)\u001b[0m\n\u001b[1;32m     31\u001b[0m         futures\u001b[38;5;241m.\u001b[39mappend(executor\u001b[38;5;241m.\u001b[39msubmit(worker, target_func, args, kwargs, i))\n\u001b[1;32m     32\u001b[0m     \u001b[38;5;28;01mfor\u001b[39;00m future \u001b[38;5;129;01min\u001b[39;00m as_completed(futures):\n\u001b[0;32m---> 33\u001b[0m         \u001b[43mfuture\u001b[49m\u001b[38;5;241;43m.\u001b[39;49m\u001b[43mresult\u001b[49m\u001b[43m(\u001b[49m\u001b[43m)\u001b[49m\n\u001b[1;32m     35\u001b[0m \u001b[38;5;28;01mreturn\u001b[39;00m results\n",
      "File \u001b[0;32m/Library/Developer/CommandLineTools/Library/Frameworks/Python3.framework/Versions/3.9/lib/python3.9/concurrent/futures/_base.py:438\u001b[0m, in \u001b[0;36mFuture.result\u001b[0;34m(self, timeout)\u001b[0m\n\u001b[1;32m    436\u001b[0m     \u001b[38;5;28;01mraise\u001b[39;00m CancelledError()\n\u001b[1;32m    437\u001b[0m \u001b[38;5;28;01melif\u001b[39;00m \u001b[38;5;28mself\u001b[39m\u001b[38;5;241m.\u001b[39m_state \u001b[38;5;241m==\u001b[39m FINISHED:\n\u001b[0;32m--> 438\u001b[0m     \u001b[38;5;28;01mreturn\u001b[39;00m \u001b[38;5;28;43mself\u001b[39;49m\u001b[38;5;241;43m.\u001b[39;49m\u001b[43m__get_result\u001b[49m\u001b[43m(\u001b[49m\u001b[43m)\u001b[49m\n\u001b[1;32m    440\u001b[0m \u001b[38;5;28mself\u001b[39m\u001b[38;5;241m.\u001b[39m_condition\u001b[38;5;241m.\u001b[39mwait(timeout)\n\u001b[1;32m    442\u001b[0m \u001b[38;5;28;01mif\u001b[39;00m \u001b[38;5;28mself\u001b[39m\u001b[38;5;241m.\u001b[39m_state \u001b[38;5;129;01min\u001b[39;00m [CANCELLED, CANCELLED_AND_NOTIFIED]:\n",
      "File \u001b[0;32m/Library/Developer/CommandLineTools/Library/Frameworks/Python3.framework/Versions/3.9/lib/python3.9/concurrent/futures/_base.py:390\u001b[0m, in \u001b[0;36mFuture.__get_result\u001b[0;34m(self)\u001b[0m\n\u001b[1;32m    388\u001b[0m \u001b[38;5;28;01mif\u001b[39;00m \u001b[38;5;28mself\u001b[39m\u001b[38;5;241m.\u001b[39m_exception:\n\u001b[1;32m    389\u001b[0m     \u001b[38;5;28;01mtry\u001b[39;00m:\n\u001b[0;32m--> 390\u001b[0m         \u001b[38;5;28;01mraise\u001b[39;00m \u001b[38;5;28mself\u001b[39m\u001b[38;5;241m.\u001b[39m_exception\n\u001b[1;32m    391\u001b[0m     \u001b[38;5;28;01mfinally\u001b[39;00m:\n\u001b[1;32m    392\u001b[0m         \u001b[38;5;66;03m# Break a reference cycle with the exception in self._exception\u001b[39;00m\n\u001b[1;32m    393\u001b[0m         \u001b[38;5;28mself\u001b[39m \u001b[38;5;241m=\u001b[39m \u001b[38;5;28;01mNone\u001b[39;00m\n",
      "File \u001b[0;32m/Library/Developer/CommandLineTools/Library/Frameworks/Python3.framework/Versions/3.9/lib/python3.9/concurrent/futures/thread.py:52\u001b[0m, in \u001b[0;36m_WorkItem.run\u001b[0;34m(self)\u001b[0m\n\u001b[1;32m     49\u001b[0m     \u001b[38;5;28;01mreturn\u001b[39;00m\n\u001b[1;32m     51\u001b[0m \u001b[38;5;28;01mtry\u001b[39;00m:\n\u001b[0;32m---> 52\u001b[0m     result \u001b[38;5;241m=\u001b[39m \u001b[38;5;28;43mself\u001b[39;49m\u001b[38;5;241;43m.\u001b[39;49m\u001b[43mfn\u001b[49m\u001b[43m(\u001b[49m\u001b[38;5;241;43m*\u001b[39;49m\u001b[38;5;28;43mself\u001b[39;49m\u001b[38;5;241;43m.\u001b[39;49m\u001b[43margs\u001b[49m\u001b[43m,\u001b[49m\u001b[43m \u001b[49m\u001b[38;5;241;43m*\u001b[39;49m\u001b[38;5;241;43m*\u001b[39;49m\u001b[38;5;28;43mself\u001b[39;49m\u001b[38;5;241;43m.\u001b[39;49m\u001b[43mkwargs\u001b[49m\u001b[43m)\u001b[49m\n\u001b[1;32m     53\u001b[0m \u001b[38;5;28;01mexcept\u001b[39;00m \u001b[38;5;167;01mBaseException\u001b[39;00m \u001b[38;5;28;01mas\u001b[39;00m exc:\n\u001b[1;32m     54\u001b[0m     \u001b[38;5;28mself\u001b[39m\u001b[38;5;241m.\u001b[39mfuture\u001b[38;5;241m.\u001b[39mset_exception(exc)\n",
      "Cell \u001b[0;32mIn[97], line 26\u001b[0m, in \u001b[0;36mparallel_map.<locals>.worker\u001b[0;34m(func, args, kwargs, i)\u001b[0m\n\u001b[1;32m     25\u001b[0m \u001b[38;5;28;01mdef\u001b[39;00m \u001b[38;5;21mworker\u001b[39m(func, args, kwargs, i):\n\u001b[0;32m---> 26\u001b[0m     results[i] \u001b[38;5;241m=\u001b[39m \u001b[43mfunc\u001b[49m\u001b[43m(\u001b[49m\u001b[38;5;241;43m*\u001b[39;49m\u001b[43margs\u001b[49m\u001b[43m,\u001b[49m\u001b[43m \u001b[49m\u001b[38;5;241;43m*\u001b[39;49m\u001b[38;5;241;43m*\u001b[39;49m\u001b[43mkwargs\u001b[49m\u001b[43m)\u001b[49m\n",
      "\u001b[0;31mTypeError\u001b[0m: __main__.test_func() argument after * must be an iterable, not int"
     ]
    }
   ],
   "source": [
    "%%time\n",
    "\n",
    "# Пример 3.1\n",
    "# Возможна одновременная передача args_container и kwargs_container, но количества элементов в них должны быть равны\n",
    "parallel_map(test_func,\n",
    "             args_container=[1, 2, 3, 4],\n",
    "             kwargs_container=[{\"s\": 3}, {\"s\": 3}, {\"s\": 3}, {\"s\": 3}])\n",
    "\n",
    "# Здесь происходят параллельные вызовы: test_func(1, s=3) test_func(2, s=3) test_func(3, s=3) test_func(4, s=3)"
   ]
  },
  {
   "cell_type": "code",
   "execution_count": 102,
   "id": "34cda7e6-b24a-4564-958f-c4cf20b7ed7c",
   "metadata": {
    "tags": []
   },
   "outputs": [
    {
     "name": "stdout",
     "output_type": "stream",
     "text": [
      "CPU times: user 1.86 ms, sys: 1.59 ms, total: 3.46 ms\n",
      "Wall time: 3.01 s\n"
     ]
    },
    {
     "data": {
      "text/plain": [
       "[3, 3, 3, 3]"
      ]
     },
     "execution_count": 102,
     "metadata": {},
     "output_type": "execute_result"
    }
   ],
   "source": [
    "%%time\n",
    "\n",
    "# Пример 3.2\n",
    "# args_container может быть None, а kwargs_container задан явно\n",
    "parallel_map(test_func,\n",
    "             kwargs_container=[{\"s\": 3}, {\"s\": 3}, {\"s\": 3}, {\"s\": 3}])"
   ]
  },
  {
   "cell_type": "code",
   "execution_count": 43,
   "id": "e75853e1-1ed8-43c5-b045-e30dd34a9f34",
   "metadata": {},
   "outputs": [
    {
     "name": "stdout",
     "output_type": "stream",
     "text": [
      "CPU times: user 4.11 ms, sys: 9.2 ms, total: 13.3 ms\n",
      "Wall time: 2.01 s\n"
     ]
    },
    {
     "data": {
      "text/plain": [
       "[3, 7, 13, 21]"
      ]
     },
     "execution_count": 43,
     "metadata": {},
     "output_type": "execute_result"
    }
   ],
   "source": [
    "%%time\n",
    "\n",
    "# Пример 3.3\n",
    "# kwargs_container может быть None, а args_container задан явно\n",
    "parallel_map(test_func,\n",
    "             args_container=[1, 2, 3, 4])"
   ]
  },
  {
   "cell_type": "code",
   "execution_count": 44,
   "id": "55bd628f-0456-4b3f-8cea-ccbfc0e0dd72",
   "metadata": {},
   "outputs": [
    {
     "name": "stdout",
     "output_type": "stream",
     "text": [
      "CPU times: user 500 µs, sys: 43.3 ms, total: 43.8 ms\n",
      "Wall time: 2.04 s\n"
     ]
    },
    {
     "data": {
      "text/plain": [
       "[3, 3, 3, 3, 3, 3, 3, 3, 3, 3, 3, 3, 3, 3, 3, 3, 3, 3, 3, 3, 3, 3, 3, 3]"
      ]
     },
     "execution_count": 44,
     "metadata": {},
     "output_type": "execute_result"
    }
   ],
   "source": [
    "%%time\n",
    "\n",
    "# Пример 3.4\n",
    "# И kwargs_container, и args_container могут быть не заданы\n",
    "parallel_map(test_func)"
   ]
  },
  {
   "cell_type": "code",
   "execution_count": 44,
   "id": "2aa43efd-6628-46e3-970a-018be26fef3f",
   "metadata": {},
   "outputs": [
    {
     "name": "stdout",
     "output_type": "stream",
     "text": [
      "CPU times: user 500 µs, sys: 43.3 ms, total: 43.8 ms\n",
      "Wall time: 2.04 s\n"
     ]
    },
    {
     "data": {
      "text/plain": [
       "[3, 3, 3, 3, 3, 3, 3, 3, 3, 3, 3, 3, 3, 3, 3, 3, 3, 3, 3, 3, 3, 3, 3, 3]"
      ]
     },
     "execution_count": 44,
     "metadata": {},
     "output_type": "execute_result"
    }
   ],
   "source": [
    "%%time\n",
    "\n",
    "# Пример 3.4\n",
    "# И kwargs_container, и args_container могут быть не заданы\n",
    "parallel_map(test_func)"
   ]
  },
  {
   "cell_type": "code",
   "execution_count": 32,
   "id": "bcdf8016-8363-4876-b05d-d1b536261f01",
   "metadata": {},
   "outputs": [
    {
     "ename": "ValueError",
     "evalue": "Numbers of positional arguments and keyword arguments do not match: 4 and 3",
     "output_type": "error",
     "traceback": [
      "\u001b[0;31m---------------------------------------------------------------------------\u001b[0m",
      "\u001b[0;31mValueError\u001b[0m                                Traceback (most recent call last)",
      "File \u001b[0;32m<timed exec>:8\u001b[0m, in \u001b[0;36m<module>\u001b[0;34m\u001b[0m\n",
      "\u001b[0;31mValueError\u001b[0m: Numbers of positional arguments and keyword arguments do not match: 4 and 3"
     ]
    }
   ],
   "source": [
    "%%time\n",
    "\n",
    "# Пример 3.5\n",
    "# При несовпадении количеств позиционных и именованных аргументов кидается ошибка\n",
    "parallel_map(test_func,\n",
    "             args_container=[1, 2, 3, 4],\n",
    "             kwargs_container=[{\"s\": 3}, {\"s\": 3}, {\"s\": 3}])"
   ]
  },
  {
   "cell_type": "code",
   "execution_count": 45,
   "id": "115e5fea-0692-424e-acb5-e2d97391bad5",
   "metadata": {},
   "outputs": [
    {
     "name": "stdout",
     "output_type": "stream",
     "text": [
      "CPU times: user 9.3 ms, sys: 51.2 ms, total: 60.5 ms\n",
      "Wall time: 2.06 s\n"
     ]
    },
    {
     "data": {
      "text/plain": [
       "[3, 3, 3, 3, 3, 3, 3, 3, 3, 3, 3, 3, 3, 3, 3, 3, 3, 3, 3, 3, 3, 3, 3, 3]"
      ]
     },
     "execution_count": 45,
     "metadata": {},
     "output_type": "execute_result"
    }
   ],
   "source": [
    "%%time\n",
    "\n",
    "# Пример 4.1\n",
    "# Если функция не имеет обязательных аргументов и аргумент n_jobs не был передан, то она выполняется параллельно столько раз, сколько ваш CPU имеет логических ядер\n",
    "# В моём случае это 24, у вас может быть больше или меньше\n",
    "parallel_map(test_func)"
   ]
  },
  {
   "cell_type": "code",
   "execution_count": 47,
   "id": "212fcdbe-a9f3-4eba-8d3f-7da0b853bffd",
   "metadata": {},
   "outputs": [
    {
     "name": "stdout",
     "output_type": "stream",
     "text": [
      "CPU times: user 2.06 ms, sys: 5.92 ms, total: 7.99 ms\n",
      "Wall time: 2.01 s\n"
     ]
    },
    {
     "data": {
      "text/plain": [
       "[3, 3]"
      ]
     },
     "execution_count": 47,
     "metadata": {},
     "output_type": "execute_result"
    }
   ],
   "source": [
    "%%time\n",
    "\n",
    "# Пример 4.2\n",
    "# Если функция не имеет обязательных аргументов и передан только аргумент n_jobs, то она выполняется параллельно n_jobs раз\n",
    "parallel_map(test_func, n_jobs=2)"
   ]
  },
  {
   "cell_type": "code",
   "execution_count": 48,
   "id": "202675af-11b9-485c-baa4-cc1ef8eb919d",
   "metadata": {},
   "outputs": [
    {
     "name": "stdout",
     "output_type": "stream",
     "text": [
      "CPU times: user 314 µs, sys: 8.69 ms, total: 9 ms\n",
      "Wall time: 2.01 s\n"
     ]
    },
    {
     "data": {
      "text/plain": [
       "[3, 7, 13]"
      ]
     },
     "execution_count": 48,
     "metadata": {},
     "output_type": "execute_result"
    }
   ],
   "source": [
    "%%time\n",
    "\n",
    "# Пример 4.3\n",
    "# Если аргументов для target_func указано МЕНЬШЕ, чем n_jobs, то используется такое же количество worker'ов, сколько было передано аргументов\n",
    "parallel_map(test_func,\n",
    "             args_container=[1, 2, 3],\n",
    "             n_jobs=5)   # Здесь используется 3 worker'a"
   ]
  },
  {
   "cell_type": "code",
   "execution_count": 49,
   "id": "a0952cde-c347-438a-ad0b-15e1218e5b6f",
   "metadata": {},
   "outputs": [
    {
     "name": "stdout",
     "output_type": "stream",
     "text": [
      "CPU times: user 1.26 ms, sys: 9.47 ms, total: 10.7 ms\n",
      "Wall time: 3.01 s\n"
     ]
    },
    {
     "data": {
      "text/plain": [
       "[3, 3, 3]"
      ]
     },
     "execution_count": 49,
     "metadata": {},
     "output_type": "execute_result"
    }
   ],
   "source": [
    "%%time\n",
    "\n",
    "# Пример 4.4\n",
    "# Аналогичный предыдущему случай, но с именованными аргументами\n",
    "parallel_map(test_func,\n",
    "             kwargs_container=[{\"s\": 3}, {\"s\": 3}, {\"s\": 3}],\n",
    "             n_jobs=5)   # Здесь используется 3 worker'a"
   ]
  },
  {
   "cell_type": "code",
   "execution_count": 50,
   "id": "b2c7d286-6036-44b4-9686-d941297e9598",
   "metadata": {},
   "outputs": [
    {
     "name": "stdout",
     "output_type": "stream",
     "text": [
      "CPU times: user 7.88 ms, sys: 0 ns, total: 7.88 ms\n",
      "Wall time: 3.01 s\n"
     ]
    },
    {
     "data": {
      "text/plain": [
       "[3, 7, 13]"
      ]
     },
     "execution_count": 50,
     "metadata": {},
     "output_type": "execute_result"
    }
   ],
   "source": [
    "%%time\n",
    "\n",
    "# Пример 4.5\n",
    "# Комбинация примеров 4.3 и 4.4 (переданы и позиционные и именованные аргументы)\n",
    "parallel_map(test_func,\n",
    "             args_container=[1, 2, 3],\n",
    "             kwargs_container=[{\"s\": 3}, {\"s\": 3}, {\"s\": 3}],\n",
    "             n_jobs=5)   # Здесь используется 3 worker'a"
   ]
  },
  {
   "cell_type": "code",
   "execution_count": 50,
   "id": "8b4649e2-a75b-4ede-8a46-32a0139fe998",
   "metadata": {},
   "outputs": [
    {
     "name": "stdout",
     "output_type": "stream",
     "text": [
      "CPU times: user 7.88 ms, sys: 0 ns, total: 7.88 ms\n",
      "Wall time: 3.01 s\n"
     ]
    },
    {
     "data": {
      "text/plain": [
       "[3, 7, 13]"
      ]
     },
     "execution_count": 50,
     "metadata": {},
     "output_type": "execute_result"
    }
   ],
   "source": [
    "%%time\n",
    "\n",
    "# Пример 4.6\n",
    "# Если аргументов для target_func указано БОЛЬШЕ, чем n_jobs, то используется n_jobs worker'ов\n",
    "parallel_map(test_func,\n",
    "             args_container=[1, 2, 3, 4],\n",
    "             kwargs_container=None,\n",
    "             n_jobs=2)   # Здесь используется 2 worker'a"
   ]
  },
  {
   "cell_type": "code",
   "execution_count": 51,
   "id": "627aa784-15b5-41ca-b232-73c88c5ebed9",
   "metadata": {},
   "outputs": [
    {
     "name": "stdout",
     "output_type": "stream",
     "text": [
      "CPU times: user 3.03 ms, sys: 11 ms, total: 14 ms\n",
      "Wall time: 5.01 s\n"
     ]
    },
    {
     "data": {
      "text/plain": [
       "[3, 3, 3, 3]"
      ]
     },
     "execution_count": 51,
     "metadata": {},
     "output_type": "execute_result"
    }
   ],
   "source": [
    "%%time\n",
    "\n",
    "# Пример 4.7\n",
    "# Время выполнения оптимизируется, данный код должен отрабатывать за 5 секунд\n",
    "parallel_map(test_func,\n",
    "             kwargs_container=[{\"s\": 5}, {\"s\": 1}, {\"s\": 2}, {\"s\": 1}],\n",
    "             n_jobs=2)"
   ]
  },
  {
   "cell_type": "code",
   "execution_count": 57,
   "id": "55bbfb49-4891-48c8-9cd7-782567b2a8fa",
   "metadata": {},
   "outputs": [
    {
     "data": {
      "text/plain": [
       "['first', 'second', 'third', 'fourth', 'fifth']"
      ]
     },
     "execution_count": 57,
     "metadata": {},
     "output_type": "execute_result"
    }
   ],
   "source": [
    "def test_func2(string, sleep_time=1):\n",
    "    time.sleep(sleep_time)\n",
    "    return string\n",
    "\n",
    "# Пример 5\n",
    "# Результаты возвращаются в том же порядке, в котором были переданы соответствующие аргументы вне зависимости от того, когда завершился worker\n",
    "arguments = [\"first\", \"second\", \"third\", \"fourth\", \"fifth\"]\n",
    "parallel_map(test_func2,\n",
    "             args_container=arguments,\n",
    "             kwargs_container=[{\"sleep_time\": 5}, {\"sleep_time\": 4}, {\"sleep_time\": 3}, {\"sleep_time\": 2}, {\"sleep_time\": 1}])"
   ]
  },
  {
   "cell_type": "code",
   "execution_count": 58,
   "id": "a5c2bcab-baa8-4f95-aceb-8cd6635844d6",
   "metadata": {},
   "outputs": [
    {
     "data": {
      "text/plain": [
       "[None, None, None]"
      ]
     },
     "execution_count": 58,
     "metadata": {},
     "output_type": "execute_result"
    }
   ],
   "source": [
    "%%time\n",
    "\n",
    "\n",
    "def test_func3():\n",
    "    def inner_test_func(sleep_time):\n",
    "        time.sleep(sleep_time)\n",
    "    return parallel_map(inner_test_func, args_container=[1, 2, 3])\n",
    "\n",
    "# Пример 6\n",
    "# Работает с функциями, созданными внутри других функций\n",
    "test_func3()"
   ]
  }
 ],
 "metadata": {
  "kernelspec": {
   "display_name": "Python 3 (ipykernel)",
   "language": "python",
   "name": "python3"
  },
  "language_info": {
   "codemirror_mode": {
    "name": "ipython",
    "version": 3
   },
   "file_extension": ".py",
   "mimetype": "text/x-python",
   "name": "python",
   "nbconvert_exporter": "python",
   "pygments_lexer": "ipython3",
   "version": "3.9.6"
  }
 },
 "nbformat": 4,
 "nbformat_minor": 5
}
